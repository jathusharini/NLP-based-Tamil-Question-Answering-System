{
 "cells": [
  {
   "cell_type": "code",
   "execution_count": 1,
   "metadata": {},
   "outputs": [
    {
     "name": "stdout",
     "output_type": "stream",
     "text": [
      "Requirement already satisfied: wikiscraper in c:\\users\\jathusharini\\venv\\lib\\site-packages (1.1.9)\n",
      "Requirement already satisfied: requests in c:\\users\\jathusharini\\venv\\lib\\site-packages (from wikiscraper) (2.31.0)\n",
      "Requirement already satisfied: beautifulsoup4 in c:\\users\\jathusharini\\venv\\lib\\site-packages (from wikiscraper) (4.11.2)\n",
      "Requirement already satisfied: soupsieve>1.2 in c:\\users\\jathusharini\\venv\\lib\\site-packages (from beautifulsoup4->wikiscraper) (2.4)\n",
      "Requirement already satisfied: charset-normalizer<4,>=2 in c:\\users\\jathusharini\\venv\\lib\\site-packages (from requests->wikiscraper) (2.1.1)\n",
      "Requirement already satisfied: idna<4,>=2.5 in c:\\users\\jathusharini\\venv\\lib\\site-packages (from requests->wikiscraper) (3.4)\n",
      "Requirement already satisfied: urllib3<3,>=1.21.1 in c:\\users\\jathusharini\\venv\\lib\\site-packages (from requests->wikiscraper) (1.26.16)\n",
      "Requirement already satisfied: certifi>=2017.4.17 in c:\\users\\jathusharini\\venv\\lib\\site-packages (from requests->wikiscraper) (2023.7.22)\n"
     ]
    }
   ],
   "source": [
    "!pip install wikiscraper"
   ]
  },
  {
   "cell_type": "code",
   "execution_count": 1,
   "metadata": {},
   "outputs": [
    {
     "name": "stdout",
     "output_type": "stream",
     "text": [
      "கண்டி இராச்சியம்\n"
     ]
    },
    {
     "ename": "AttributeError",
     "evalue": "'NoneType' object has no attribute 'nextSibling'",
     "output_type": "error",
     "traceback": [
      "\u001B[1;31m---------------------------------------------------------------------------\u001B[0m",
      "\u001B[1;31mAttributeError\u001B[0m                            Traceback (most recent call last)",
      "\u001B[1;32m~\\AppData\\Local\\Temp\\ipykernel_8236\\2797019065.py\u001B[0m in \u001B[0;36m<module>\u001B[1;34m\u001B[0m\n\u001B[0;32m      5\u001B[0m \u001B[1;33m\u001B[0m\u001B[0m\n\u001B[0;32m      6\u001B[0m \u001B[0mprint\u001B[0m\u001B[1;33m(\u001B[0m\u001B[0mresult\u001B[0m\u001B[1;33m.\u001B[0m\u001B[0mgetTitle\u001B[0m\u001B[1;33m(\u001B[0m\u001B[1;33m)\u001B[0m\u001B[1;33m)\u001B[0m\u001B[1;33m\u001B[0m\u001B[1;33m\u001B[0m\u001B[0m\n\u001B[1;32m----> 7\u001B[1;33m \u001B[0mprint\u001B[0m\u001B[1;33m(\u001B[0m\u001B[0mresult\u001B[0m\u001B[1;33m.\u001B[0m\u001B[0mgetAbstract\u001B[0m\u001B[1;33m(\u001B[0m\u001B[1;36m5\u001B[0m\u001B[1;33m)\u001B[0m\u001B[1;33m)\u001B[0m\u001B[1;33m\u001B[0m\u001B[1;33m\u001B[0m\u001B[0m\n\u001B[0m\u001B[0;32m      8\u001B[0m \u001B[0mprint\u001B[0m\u001B[1;33m(\u001B[0m\u001B[0mresult\u001B[0m\u001B[1;33m.\u001B[0m\u001B[0mgetContentsTable\u001B[0m\u001B[1;33m(\u001B[0m\u001B[1;33m)\u001B[0m\u001B[1;33m)\u001B[0m\u001B[1;33m\u001B[0m\u001B[1;33m\u001B[0m\u001B[0m\n",
      "\u001B[1;32m~\\venv\\lib\\site-packages\\wikiscraper\\__init__.py\u001B[0m in \u001B[0;36mgetAbstract\u001B[1;34m(self, limit)\u001B[0m\n\u001B[0;32m     63\u001B[0m                                                 \u001B[0mtag\u001B[0m \u001B[1;33m=\u001B[0m \u001B[0mtag\u001B[0m\u001B[1;33m.\u001B[0m\u001B[0mnextSibling\u001B[0m\u001B[1;33m\u001B[0m\u001B[1;33m\u001B[0m\u001B[0m\n\u001B[0;32m     64\u001B[0m                                 \u001B[1;32melse\u001B[0m\u001B[1;33m:\u001B[0m\u001B[1;33m\u001B[0m\u001B[1;33m\u001B[0m\u001B[0m\n\u001B[1;32m---> 65\u001B[1;33m                                         \u001B[0mtag\u001B[0m \u001B[1;33m=\u001B[0m \u001B[0mtag\u001B[0m\u001B[1;33m.\u001B[0m\u001B[0mnextSibling\u001B[0m\u001B[1;33m\u001B[0m\u001B[1;33m\u001B[0m\u001B[0m\n\u001B[0m\u001B[0;32m     66\u001B[0m \u001B[1;33m\u001B[0m\u001B[0m\n\u001B[0;32m     67\u001B[0m                 \u001B[1;32mreturn\u001B[0m \u001B[0mdataAbstract\u001B[0m\u001B[1;33m\u001B[0m\u001B[1;33m\u001B[0m\u001B[0m\n",
      "\u001B[1;31mAttributeError\u001B[0m: 'NoneType' object has no attribute 'nextSibling'"
     ]
    }
   ],
   "source": [
    "import wikiscraper as ws\n",
    "ws.lang(\"ta\")\n",
    "\n",
    "result = ws.searchBySlug(\"கண்டி_இராச்சியம்\")\n",
    "\n",
    "print(result.getTitle())\n",
    "print(result.getAbstract(5))\n",
    "print(result.getContentsTable())"
   ]
  },
  {
   "cell_type": "code",
   "execution_count": null,
   "outputs": [],
   "source": [],
   "metadata": {
    "collapsed": false
   }
  },
  {
   "cell_type": "code",
   "execution_count": null,
   "outputs": [],
   "source": [],
   "metadata": {
    "collapsed": false
   }
  },
  {
   "cell_type": "code",
   "execution_count": null,
   "outputs": [],
   "source": [],
   "metadata": {
    "collapsed": false
   }
  },
  {
   "cell_type": "code",
   "execution_count": null,
   "outputs": [],
   "source": [],
   "metadata": {
    "collapsed": false
   }
  },
  {
   "cell_type": "code",
   "execution_count": null,
   "outputs": [],
   "source": [],
   "metadata": {
    "collapsed": false
   }
  },
  {
   "cell_type": "code",
   "execution_count": 3,
   "metadata": {},
   "outputs": [
    {
     "name": "stdout",
     "output_type": "stream",
     "text": [
      "Title: இலங்கை\n",
      "\n",
      "Introduction Paragraphs:\n",
      "Error retrieving introduction paragraphs: 'NoneType' object has no attribute 'nextSibling'\n",
      "\n",
      "All Sections and Paragraphs:\n",
      "Error retrieving sections: 'NoneType' object has no attribute 'findNext'\n"
     ]
    }
   ],
   "source": [
    "import wikiscraper as ws\n",
    "\n",
    "# Set the language to Tamil (or any other language if needed)\n",
    "ws.lang(\"ta\")\n",
    "\n",
    "# Search and get content by the URL slug of the article\n",
    "result = ws.searchBySlug(\"இலங்கை\")  # Replace \"இலங்கை\" with your desired topic\n",
    "\n",
    "# Print the title of the page\n",
    "print(\"Title:\", result.getTitle())\n",
    "\n",
    "# Print the abstract/introduction paragraphs\n",
    "print(\"\\nIntroduction Paragraphs:\")\n",
    "try:\n",
    "    abstract_paragraphs = result.getAbstract()  # Get all paragraphs in the introduction\n",
    "    if abstract_paragraphs:\n",
    "        for i, paragraph in enumerate(abstract_paragraphs):\n",
    "            print(f\"Introduction Paragraph {i + 1}:\\n{paragraph}\\n\")\n",
    "    else:\n",
    "        print(\"No introduction paragraphs found.\")\n",
    "except AttributeError as e:\n",
    "    print(f\"Error retrieving introduction paragraphs: {e}\")\n",
    "\n",
    "# Print all paragraphs from all sections\n",
    "print(\"\\nAll Sections and Paragraphs:\")\n",
    "try:\n",
    "    contents_table = result.getContentsTable(subcontents=True)  # Get all section titles\n",
    "    if contents_table:\n",
    "        # Iterate through each section\n",
    "        for section in contents_table:\n",
    "            # Get the paragraphs of the current section\n",
    "            section_paragraphs = result.getSection(section)\n",
    "\n",
    "            # If the section has paragraphs, print them\n",
    "            if section_paragraphs:\n",
    "                print(f\"\\nSection: {section}\")\n",
    "                for j, paragraph in enumerate(section_paragraphs):\n",
    "                    print(f\"Paragraph {j + 1}:\\n{paragraph}\\n\")\n",
    "            else:\n",
    "                print(f\"\\nSection: {section} has no content.\\n\")\n",
    "    else:\n",
    "        print(\"No sections found in the table of contents.\")\n",
    "except AttributeError as e:\n",
    "    print(f\"Error retrieving sections: {e}\")\n"
   ]
  },
  {
   "cell_type": "code",
   "execution_count": 8,
   "metadata": {},
   "outputs": [],
   "source": []
  },
  {
   "cell_type": "code",
   "execution_count": 8,
   "metadata": {},
   "outputs": [],
   "source": []
  }
 ],
 "metadata": {
  "kernelspec": {
   "display_name": "Python 3 (ipykernel)",
   "language": "python",
   "name": "python3"
  },
  "language_info": {
   "codemirror_mode": {
    "name": "ipython",
    "version": 3
   },
   "file_extension": ".py",
   "mimetype": "text/x-python",
   "name": "python",
   "nbconvert_exporter": "python",
   "pygments_lexer": "ipython3",
   "version": "3.9.13"
  }
 },
 "nbformat": 4,
 "nbformat_minor": 1
}
