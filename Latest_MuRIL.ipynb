{
 "cells": [
  {
   "cell_type": "code",
   "execution_count": 1,
   "id": "37fbbd94",
   "metadata": {},
   "outputs": [
    {
     "name": "stdout",
     "output_type": "stream",
     "text": [
      "All libraries imported successfully!\n"
     ]
    }
   ],
   "source": [
    "# Cell 1: Imports\n",
    "import json\n",
    "import torch\n",
    "from torch.utils.data import Dataset, DataLoader, random_split\n",
    "from transformers import AutoTokenizer, AutoModelForQuestionAnswering, AdamW\n",
    "import numpy as np\n",
    "from nltk.translate.bleu_score import sentence_bleu\n",
    "from bert_score import score\n",
    "import re\n",
    "import string\n",
    "from tqdm import tqdm\n",
    "import matplotlib.pyplot as plt\n",
    "\n",
    "print(\"All libraries imported successfully!\")"
   ]
  },
  {
   "cell_type": "code",
   "execution_count": 2,
   "id": "b7d10cbf",
   "metadata": {},
   "outputs": [],
   "source": [
    "def load_tamil_data(file_path):\n",
    "    try:\n",
    "        with open(file_path, \"r\", encoding=\"utf-8\") as f:\n",
    "            data = json.load(f)\n",
    "        return data\n",
    "    except Exception as e:\n",
    "        print(f\"Error loading data: {str(e)}\")\n",
    "        return None"
   ]
  },
  {
   "cell_type": "code",
   "execution_count": 3,
   "id": "bf8a0742",
   "metadata": {},
   "outputs": [],
   "source": [
    "class TamilQADataset(Dataset):\n",
    "    def __init__(self, data, tokenizer, max_length=512):\n",
    "        self.examples = []\n",
    "        processed_count = 0\n",
    "        \n",
    "        for entry in tqdm(data[\"data\"]):\n",
    "            for paragraph in entry[\"paragraphs\"]:\n",
    "                context = paragraph[\"context\"]\n",
    "                for qa in paragraph[\"qas\"]:\n",
    "                    if not qa[\"is_impossible\"]:\n",
    "                        for answer in qa[\"answers\"]:\n",
    "                            example = self.process_qa_pair(\n",
    "                                qa[\"question\"], \n",
    "                                context, \n",
    "                                answer, \n",
    "                                tokenizer, \n",
    "                                max_length\n",
    "                            )\n",
    "                            if example:\n",
    "                                self.examples.append(example)\n",
    "                                processed_count += 1\n",
    "        \n",
    "        print(f\"Successfully processed {processed_count} QA pairs\")\n",
    "\n",
    "    def process_qa_pair(self, question, context, answer, tokenizer, max_length):\n",
    "        tokenized = tokenizer(\n",
    "            question,\n",
    "            context,\n",
    "            truncation=True,\n",
    "            max_length=max_length,\n",
    "            padding=\"max_length\",\n",
    "            return_offsets_mapping=True,\n",
    "            return_tensors=\"pt\"\n",
    "        )\n",
    "        \n",
    "        offset_mapping = tokenized[\"offset_mapping\"].squeeze(0)\n",
    "        answer_start = answer[\"answer_start\"]\n",
    "        answer_text = answer[\"text\"]\n",
    "        \n",
    "        start_pos = end_pos = None\n",
    "        for idx, (start, end) in enumerate(offset_mapping):\n",
    "            if start <= answer_start < end:\n",
    "                start_pos = idx\n",
    "            if start < answer_start + len(answer_text) <= end:\n",
    "                end_pos = idx\n",
    "                break\n",
    "                \n",
    "        if start_pos is None or end_pos is None:\n",
    "            return None\n",
    "            \n",
    "        return {\n",
    "            \"input_ids\": tokenized[\"input_ids\"].squeeze(0),\n",
    "            \"attention_mask\": tokenized[\"attention_mask\"].squeeze(0),\n",
    "            \"start_positions\": torch.tensor(start_pos, dtype=torch.long),\n",
    "            \"end_positions\": torch.tensor(end_pos, dtype=torch.long)\n",
    "        }\n",
    "\n",
    "    def __len__(self):\n",
    "        return len(self.examples)\n",
    "\n",
    "    def __getitem__(self, idx):\n",
    "        return self.examples[idx]\n"
   ]
  },
  {
   "cell_type": "code",
   "execution_count": 4,
   "id": "694fd53a",
   "metadata": {},
   "outputs": [
    {
     "name": "stdout",
     "output_type": "stream",
     "text": [
      "Starting data preprocessing...\n"
     ]
    },
    {
     "name": "stderr",
     "output_type": "stream",
     "text": [
      "100%|████████████████████████████████████████████████████████████████████████████████| 100/100 [00:02<00:00, 34.25it/s]"
     ]
    },
    {
     "name": "stdout",
     "output_type": "stream",
     "text": [
      "Successfully processed 499 QA pairs\n"
     ]
    },
    {
     "name": "stderr",
     "output_type": "stream",
     "text": [
      "\n"
     ]
    }
   ],
   "source": [
    "# Execute data loading and preprocessing\n",
    "print(\"Starting data preprocessing...\")\n",
    "tokenizer = AutoTokenizer.from_pretrained(\"google/muril-base-cased\")\n",
    "data = load_tamil_data(\"answers (1).json\")\n",
    "dataset = TamilQADataset(data, tokenizer)"
   ]
  },
  {
   "cell_type": "code",
   "execution_count": 5,
   "id": "e0e86422",
   "metadata": {},
   "outputs": [],
   "source": [
    "# Create train/val split\n",
    "train_size = int(0.8 * len(dataset))\n",
    "val_size = len(dataset) - train_size\n",
    "train_dataset, val_dataset = random_split(dataset, [train_size, val_size])"
   ]
  },
  {
   "cell_type": "code",
   "execution_count": 6,
   "id": "477465aa",
   "metadata": {},
   "outputs": [],
   "source": [
    "# Create dataloaders\n",
    "train_dataloader = DataLoader(train_dataset, batch_size=4, shuffle=True)\n",
    "val_dataloader = DataLoader(val_dataset, batch_size=4)"
   ]
  },
  {
   "cell_type": "code",
   "execution_count": 7,
   "id": "73f30b4e",
   "metadata": {},
   "outputs": [
    {
     "name": "stdout",
     "output_type": "stream",
     "text": [
      "Data preprocessing completed!\n",
      "Training samples: 399\n",
      "Validation samples: 100\n"
     ]
    }
   ],
   "source": [
    "print(\"Data preprocessing completed!\")\n",
    "print(f\"Training samples: {len(train_dataset)}\")\n",
    "print(f\"Validation samples: {len(val_dataset)}\")"
   ]
  },
  {
   "cell_type": "code",
   "execution_count": 8,
   "id": "1644b45d",
   "metadata": {},
   "outputs": [
    {
     "name": "stdout",
     "output_type": "stream",
     "text": [
      "Using device: cpu\n"
     ]
    }
   ],
   "source": [
    "# Cell 3: Model Training\n",
    "device = torch.device(\"cuda\" if torch.cuda.is_available() else \"cpu\")\n",
    "print(f\"Using device: {device}\")\n"
   ]
  },
  {
   "cell_type": "code",
   "execution_count": 9,
   "id": "8420f4b9",
   "metadata": {},
   "outputs": [
    {
     "name": "stderr",
     "output_type": "stream",
     "text": [
      "C:\\Users\\jathusharini\\anaconda3\\lib\\site-packages\\torch\\_utils.py:831: UserWarning: TypedStorage is deprecated. It will be removed in the future and UntypedStorage will be the only storage class. This should only matter to you if you are using storages directly.  To access UntypedStorage directly, use tensor.untyped_storage() instead of tensor.storage()\n",
      "  return self.fget.__get__(instance, owner)()\n",
      "Some weights of BertForQuestionAnswering were not initialized from the model checkpoint at google/muril-base-cased and are newly initialized: ['qa_outputs.bias', 'qa_outputs.weight']\n",
      "You should probably TRAIN this model on a down-stream task to be able to use it for predictions and inference.\n",
      "C:\\Users\\jathusharini\\anaconda3\\lib\\site-packages\\transformers\\optimization.py:591: FutureWarning: This implementation of AdamW is deprecated and will be removed in a future version. Use the PyTorch implementation torch.optim.AdamW instead, or set `no_deprecation_warning=True` to disable this warning\n",
      "  warnings.warn(\n"
     ]
    }
   ],
   "source": [
    "# Initialize model\n",
    "model = AutoModelForQuestionAnswering.from_pretrained(\"google/muril-base-cased\")\n",
    "model.to(device)\n",
    "optimizer = AdamW(model.parameters(), lr=2e-5)"
   ]
  },
  {
   "cell_type": "code",
   "execution_count": 10,
   "id": "3c9c596a",
   "metadata": {},
   "outputs": [],
   "source": [
    "# Training loop\n",
    "epochs = 20\n",
    "training_losses = []\n",
    "validation_losses = []"
   ]
  },
  {
   "cell_type": "code",
   "execution_count": 11,
   "id": "50ae1749",
   "metadata": {
    "scrolled": false
   },
   "outputs": [
    {
     "name": "stdout",
     "output_type": "stream",
     "text": [
      "Starting training...\n",
      "\n",
      "Epoch 1/20\n"
     ]
    },
    {
     "name": "stderr",
     "output_type": "stream",
     "text": [
      "Training: 100%|█████████████████████████████████████████████████████████| 100/100 [23:07<00:00, 13.88s/it, loss=6.0345]\n",
      "Validation: 100%|█████████████████████████████████████████████████████████| 25/25 [02:16<00:00,  5.44s/it, loss=5.8924]\n"
     ]
    },
    {
     "name": "stdout",
     "output_type": "stream",
     "text": [
      "Training Loss: 6.0950\n",
      "Validation Loss: 5.9109\n",
      "\n",
      "Epoch 2/20\n"
     ]
    },
    {
     "name": "stderr",
     "output_type": "stream",
     "text": [
      "Training: 100%|█████████████████████████████████████████████████████████| 100/100 [23:48<00:00, 14.29s/it, loss=5.7638]\n",
      "Validation: 100%|█████████████████████████████████████████████████████████| 25/25 [02:26<00:00,  5.88s/it, loss=5.7224]\n"
     ]
    },
    {
     "name": "stdout",
     "output_type": "stream",
     "text": [
      "Training Loss: 5.8566\n",
      "Validation Loss: 5.7623\n",
      "\n",
      "Epoch 3/20\n"
     ]
    },
    {
     "name": "stderr",
     "output_type": "stream",
     "text": [
      "Training: 100%|█████████████████████████████████████████████████████████| 100/100 [24:30<00:00, 14.70s/it, loss=5.7416]\n",
      "Validation: 100%|█████████████████████████████████████████████████████████| 25/25 [02:43<00:00,  6.52s/it, loss=5.5572]\n"
     ]
    },
    {
     "name": "stdout",
     "output_type": "stream",
     "text": [
      "Training Loss: 5.7183\n",
      "Validation Loss: 5.6509\n",
      "\n",
      "Epoch 4/20\n"
     ]
    },
    {
     "name": "stderr",
     "output_type": "stream",
     "text": [
      "Training: 100%|█████████████████████████████████████████████████████████| 100/100 [26:39<00:00, 16.00s/it, loss=5.5126]\n",
      "Validation: 100%|█████████████████████████████████████████████████████████| 25/25 [02:28<00:00,  5.95s/it, loss=5.4238]\n"
     ]
    },
    {
     "name": "stdout",
     "output_type": "stream",
     "text": [
      "Training Loss: 5.5874\n",
      "Validation Loss: 5.5256\n",
      "\n",
      "Epoch 5/20\n"
     ]
    },
    {
     "name": "stderr",
     "output_type": "stream",
     "text": [
      "Training: 100%|█████████████████████████████████████████████████████████| 100/100 [24:01<00:00, 14.41s/it, loss=5.4390]\n",
      "Validation: 100%|█████████████████████████████████████████████████████████| 25/25 [02:30<00:00,  6.04s/it, loss=5.3584]\n"
     ]
    },
    {
     "name": "stdout",
     "output_type": "stream",
     "text": [
      "Training Loss: 5.4279\n",
      "Validation Loss: 5.4122\n",
      "\n",
      "Epoch 6/20\n"
     ]
    },
    {
     "name": "stderr",
     "output_type": "stream",
     "text": [
      "Training: 100%|█████████████████████████████████████████████████████████| 100/100 [24:09<00:00, 14.49s/it, loss=5.1095]\n",
      "Validation: 100%|█████████████████████████████████████████████████████████| 25/25 [02:29<00:00,  5.97s/it, loss=5.2208]\n"
     ]
    },
    {
     "name": "stdout",
     "output_type": "stream",
     "text": [
      "Training Loss: 5.2474\n",
      "Validation Loss: 5.2441\n",
      "\n",
      "Epoch 7/20\n"
     ]
    },
    {
     "name": "stderr",
     "output_type": "stream",
     "text": [
      "Training: 100%|█████████████████████████████████████████████████████████| 100/100 [23:20<00:00, 14.01s/it, loss=4.8663]\n",
      "Validation: 100%|█████████████████████████████████████████████████████████| 25/25 [02:12<00:00,  5.30s/it, loss=4.8266]\n"
     ]
    },
    {
     "name": "stdout",
     "output_type": "stream",
     "text": [
      "Training Loss: 5.0564\n",
      "Validation Loss: 5.0975\n",
      "\n",
      "Epoch 8/20\n"
     ]
    },
    {
     "name": "stderr",
     "output_type": "stream",
     "text": [
      "Training: 100%|█████████████████████████████████████████████████████████| 100/100 [21:59<00:00, 13.20s/it, loss=4.6458]\n",
      "Validation: 100%|█████████████████████████████████████████████████████████| 25/25 [02:11<00:00,  5.24s/it, loss=4.7671]\n"
     ]
    },
    {
     "name": "stdout",
     "output_type": "stream",
     "text": [
      "Training Loss: 4.8317\n",
      "Validation Loss: 4.9620\n",
      "\n",
      "Epoch 9/20\n"
     ]
    },
    {
     "name": "stderr",
     "output_type": "stream",
     "text": [
      "Training: 100%|█████████████████████████████████████████████████████████| 100/100 [21:58<00:00, 13.18s/it, loss=4.4131]\n",
      "Validation: 100%|█████████████████████████████████████████████████████████| 25/25 [02:18<00:00,  5.54s/it, loss=4.5263]\n"
     ]
    },
    {
     "name": "stdout",
     "output_type": "stream",
     "text": [
      "Training Loss: 4.5697\n",
      "Validation Loss: 4.7024\n",
      "\n",
      "Epoch 10/20\n"
     ]
    },
    {
     "name": "stderr",
     "output_type": "stream",
     "text": [
      "Training: 100%|█████████████████████████████████████████████████████████| 100/100 [23:42<00:00, 14.22s/it, loss=4.0739]\n",
      "Validation: 100%|█████████████████████████████████████████████████████████| 25/25 [02:32<00:00,  6.11s/it, loss=4.2855]\n"
     ]
    },
    {
     "name": "stdout",
     "output_type": "stream",
     "text": [
      "Training Loss: 4.2660\n",
      "Validation Loss: 4.4329\n",
      "\n",
      "Epoch 11/20\n"
     ]
    },
    {
     "name": "stderr",
     "output_type": "stream",
     "text": [
      "Training: 100%|█████████████████████████████████████████████████████████| 100/100 [23:59<00:00, 14.40s/it, loss=3.7909]\n",
      "Validation: 100%|█████████████████████████████████████████████████████████| 25/25 [02:29<00:00,  5.97s/it, loss=4.2693]\n"
     ]
    },
    {
     "name": "stdout",
     "output_type": "stream",
     "text": [
      "Training Loss: 3.9781\n",
      "Validation Loss: 4.2411\n",
      "\n",
      "Epoch 12/20\n"
     ]
    },
    {
     "name": "stderr",
     "output_type": "stream",
     "text": [
      "Training: 100%|█████████████████████████████████████████████████████████| 100/100 [50:59<00:00, 30.59s/it, loss=3.3624]\n",
      "Validation: 100%|█████████████████████████████████████████████████████████| 25/25 [05:30<00:00, 13.22s/it, loss=4.0793]\n"
     ]
    },
    {
     "name": "stdout",
     "output_type": "stream",
     "text": [
      "Training Loss: 3.6597\n",
      "Validation Loss: 4.1188\n",
      "\n",
      "Epoch 13/20\n"
     ]
    },
    {
     "name": "stderr",
     "output_type": "stream",
     "text": [
      "Training: 100%|█████████████████████████████████████████████████████████| 100/100 [33:37<00:00, 20.17s/it, loss=3.0453]\n",
      "Validation: 100%|█████████████████████████████████████████████████████████| 25/25 [02:13<00:00,  5.36s/it, loss=3.8282]\n"
     ]
    },
    {
     "name": "stdout",
     "output_type": "stream",
     "text": [
      "Training Loss: 3.3437\n",
      "Validation Loss: 3.9404\n",
      "\n",
      "Epoch 14/20\n"
     ]
    },
    {
     "name": "stderr",
     "output_type": "stream",
     "text": [
      "Training: 100%|█████████████████████████████████████████████████████████| 100/100 [21:57<00:00, 13.18s/it, loss=2.8044]\n",
      "Validation: 100%|█████████████████████████████████████████████████████████| 25/25 [02:15<00:00,  5.44s/it, loss=3.9553]\n"
     ]
    },
    {
     "name": "stdout",
     "output_type": "stream",
     "text": [
      "Training Loss: 3.0772\n",
      "Validation Loss: 3.7604\n",
      "\n",
      "Epoch 15/20\n"
     ]
    },
    {
     "name": "stderr",
     "output_type": "stream",
     "text": [
      "Training: 100%|█████████████████████████████████████████████████████████| 100/100 [22:35<00:00, 13.55s/it, loss=2.6974]\n",
      "Validation: 100%|█████████████████████████████████████████████████████████| 25/25 [02:15<00:00,  5.40s/it, loss=3.1213]\n"
     ]
    },
    {
     "name": "stdout",
     "output_type": "stream",
     "text": [
      "Training Loss: 2.7116\n",
      "Validation Loss: 3.4746\n",
      "\n",
      "Epoch 16/20\n"
     ]
    },
    {
     "name": "stderr",
     "output_type": "stream",
     "text": [
      "Training: 100%|█████████████████████████████████████████████████████████| 100/100 [22:37<00:00, 13.57s/it, loss=2.2109]\n",
      "Validation: 100%|█████████████████████████████████████████████████████████| 25/25 [02:12<00:00,  5.30s/it, loss=3.8972]\n"
     ]
    },
    {
     "name": "stdout",
     "output_type": "stream",
     "text": [
      "Training Loss: 2.3330\n",
      "Validation Loss: 3.6601\n",
      "\n",
      "Epoch 17/20\n"
     ]
    },
    {
     "name": "stderr",
     "output_type": "stream",
     "text": [
      "Training: 100%|█████████████████████████████████████████████████████████| 100/100 [22:40<00:00, 13.61s/it, loss=1.7815]\n",
      "Validation: 100%|█████████████████████████████████████████████████████████| 25/25 [02:25<00:00,  5.83s/it, loss=3.8736]\n"
     ]
    },
    {
     "name": "stdout",
     "output_type": "stream",
     "text": [
      "Training Loss: 1.9728\n",
      "Validation Loss: 3.5192\n",
      "\n",
      "Epoch 18/20\n"
     ]
    },
    {
     "name": "stderr",
     "output_type": "stream",
     "text": [
      "Training: 100%|█████████████████████████████████████████████████████████| 100/100 [30:47<00:00, 18.48s/it, loss=1.5041]\n",
      "Validation: 100%|█████████████████████████████████████████████████████████| 25/25 [05:33<00:00, 13.35s/it, loss=3.2498]\n"
     ]
    },
    {
     "name": "stdout",
     "output_type": "stream",
     "text": [
      "Training Loss: 1.6804\n",
      "Validation Loss: 3.4059\n",
      "\n",
      "Epoch 19/20\n"
     ]
    },
    {
     "name": "stderr",
     "output_type": "stream",
     "text": [
      "Training: 100%|█████████████████████████████████████████████████████████| 100/100 [40:30<00:00, 24.30s/it, loss=1.1844]\n",
      "Validation: 100%|█████████████████████████████████████████████████████████| 25/25 [04:32<00:00, 10.92s/it, loss=2.7950]\n"
     ]
    },
    {
     "name": "stdout",
     "output_type": "stream",
     "text": [
      "Training Loss: 1.3907\n",
      "Validation Loss: 3.2801\n",
      "\n",
      "Epoch 20/20\n"
     ]
    },
    {
     "name": "stderr",
     "output_type": "stream",
     "text": [
      "Training: 100%|█████████████████████████████████████████████████████████| 100/100 [47:51<00:00, 28.72s/it, loss=1.0275]\n",
      "Validation: 100%|█████████████████████████████████████████████████████████| 25/25 [04:56<00:00, 11.86s/it, loss=2.5035]"
     ]
    },
    {
     "name": "stdout",
     "output_type": "stream",
     "text": [
      "Training Loss: 1.1011\n",
      "Validation Loss: 3.5127\n",
      "Training completed!\n"
     ]
    },
    {
     "name": "stderr",
     "output_type": "stream",
     "text": [
      "\n"
     ]
    }
   ],
   "source": [
    "print(\"Starting training...\")\n",
    "for epoch in range(epochs):\n",
    "    print(f\"\\nEpoch {epoch + 1}/{epochs}\")\n",
    "    \n",
    "    # Training phase\n",
    "    model.train()\n",
    "    total_loss = 0\n",
    "    train_progress = tqdm(train_dataloader, desc=\"Training\")\n",
    "    \n",
    "    for batch in train_progress:\n",
    "        batch = {k: v.to(device) for k, v in batch.items()}\n",
    "        outputs = model(**batch)\n",
    "        loss = outputs.loss\n",
    "        \n",
    "        optimizer.zero_grad()\n",
    "        loss.backward()\n",
    "        optimizer.step()\n",
    "        \n",
    "        total_loss += loss.item()\n",
    "        train_progress.set_postfix({'loss': f\"{loss.item():.4f}\"})\n",
    "    \n",
    "    avg_train_loss = total_loss / len(train_dataloader)\n",
    "    training_losses.append(avg_train_loss)\n",
    "    \n",
    "    # Validation phase\n",
    "    model.eval()\n",
    "    val_loss = 0\n",
    "    val_progress = tqdm(val_dataloader, desc=\"Validation\")\n",
    "    \n",
    "    with torch.no_grad():\n",
    "        for batch in val_progress:\n",
    "            batch = {k: v.to(device) for k, v in batch.items()}\n",
    "            outputs = model(**batch)\n",
    "            val_loss += outputs.loss.item()\n",
    "            val_progress.set_postfix({'loss': f\"{outputs.loss.item():.4f}\"})\n",
    "    \n",
    "    avg_val_loss = val_loss / len(val_dataloader)\n",
    "    validation_losses.append(avg_val_loss)\n",
    "    \n",
    "    print(f\"Training Loss: {avg_train_loss:.4f}\")\n",
    "    print(f\"Validation Loss: {avg_val_loss:.4f}\")\n",
    "\n",
    "print(\"Training completed!\")"
   ]
  },
  {
   "cell_type": "code",
   "execution_count": 12,
   "id": "e7f2113f",
   "metadata": {},
   "outputs": [
    {
     "name": "stdout",
     "output_type": "stream",
     "text": [
      "Saving model...\n",
      "Model saved successfully!\n"
     ]
    }
   ],
   "source": [
    "# Cell 4: Save Model\n",
    "print(\"Saving model...\")\n",
    "model.save_pretrained(\"./latest_muril_model-test-01\")\n",
    "tokenizer.save_pretrained(\"./latest_muril_model-01\")\n",
    "print(\"Model saved successfully!\")"
   ]
  },
  {
   "cell_type": "code",
   "execution_count": 13,
   "id": "4062d9bb",
   "metadata": {},
   "outputs": [],
   "source": [
    "# Cell 5: Evaluation\n",
    "def normalize_answer(s):\n",
    "    def remove_articles(text):\n",
    "        return re.sub(r'\\b(a|an|the)\\b', ' ', text)\n",
    "    def white_space_fix(text):\n",
    "        return ' '.join(text.split())\n",
    "    def remove_punctuation(text):\n",
    "        return text.translate(str.maketrans('', '', string.punctuation))\n",
    "    def lower(text):\n",
    "        return text.lower()\n",
    "    return white_space_fix(remove_articles(remove_punctuation(lower(s))))"
   ]
  },
  {
   "cell_type": "code",
   "execution_count": 14,
   "id": "6964be0d",
   "metadata": {},
   "outputs": [
    {
     "name": "stdout",
     "output_type": "stream",
     "text": [
      "Starting evaluation...\n"
     ]
    }
   ],
   "source": [
    "def compute_f1(pred_text, true_text):\n",
    "    pred_tokens = normalize_answer(pred_text).split()\n",
    "    true_tokens = normalize_answer(true_text).split()\n",
    "    \n",
    "    if len(pred_tokens) == 0 or len(true_tokens) == 0:\n",
    "        return int(pred_tokens == true_tokens)\n",
    "    \n",
    "    common_tokens = set(pred_tokens) & set(true_tokens)\n",
    "    if not common_tokens:\n",
    "        return 0\n",
    "    \n",
    "    precision = len(common_tokens) / len(pred_tokens)\n",
    "    recall = len(common_tokens) / len(true_tokens)\n",
    "    f1 = 2 * precision * recall / (precision + recall)\n",
    "    return f1\n",
    "\n",
    "print(\"Starting evaluation...\")\n",
    "model.eval()\n",
    "results = {\n",
    "    'exact_match': [],\n",
    "    'f1': [],\n",
    "    'bleu': []\n",
    "}"
   ]
  },
  {
   "cell_type": "code",
   "execution_count": 15,
   "id": "e33c81b9",
   "metadata": {},
   "outputs": [
    {
     "name": "stderr",
     "output_type": "stream",
     "text": [
      "Evaluating:   4%|██▊                                                                    | 1/25 [00:51<20:41, 51.72s/it]C:\\Users\\jathusharini\\anaconda3\\lib\\site-packages\\nltk\\translate\\bleu_score.py:552: UserWarning: \n",
      "The hypothesis contains 0 counts of 2-gram overlaps.\n",
      "Therefore the BLEU score evaluates to 0, independently of\n",
      "how many N-gram overlaps of lower order it contains.\n",
      "Consider using lower n-gram order or use SmoothingFunction()\n",
      "  warnings.warn(_msg)\n",
      "C:\\Users\\jathusharini\\anaconda3\\lib\\site-packages\\nltk\\translate\\bleu_score.py:552: UserWarning: \n",
      "The hypothesis contains 0 counts of 3-gram overlaps.\n",
      "Therefore the BLEU score evaluates to 0, independently of\n",
      "how many N-gram overlaps of lower order it contains.\n",
      "Consider using lower n-gram order or use SmoothingFunction()\n",
      "  warnings.warn(_msg)\n",
      "C:\\Users\\jathusharini\\anaconda3\\lib\\site-packages\\nltk\\translate\\bleu_score.py:552: UserWarning: \n",
      "The hypothesis contains 0 counts of 4-gram overlaps.\n",
      "Therefore the BLEU score evaluates to 0, independently of\n",
      "how many N-gram overlaps of lower order it contains.\n",
      "Consider using lower n-gram order or use SmoothingFunction()\n",
      "  warnings.warn(_msg)\n",
      "Evaluating: 100%|██████████████████████████████████████████████████████████████████████| 25/25 [05:58<00:00, 14.33s/it]"
     ]
    },
    {
     "name": "stdout",
     "output_type": "stream",
     "text": [
      "\n",
      "Evaluation Results:\n",
      "exact_match: 29.00%\n",
      "f1: 45.85%\n",
      "bleu: 20.93%\n"
     ]
    },
    {
     "name": "stderr",
     "output_type": "stream",
     "text": [
      "\n"
     ]
    }
   ],
   "source": [
    "with torch.no_grad():\n",
    "    for batch in tqdm(val_dataloader, desc=\"Evaluating\"):\n",
    "        batch = {k: v.to(device) for k, v in batch.items()}\n",
    "        outputs = model(**batch)\n",
    "        \n",
    "        # Get predictions\n",
    "        start_logits = outputs.start_logits\n",
    "        end_logits = outputs.end_logits\n",
    "        \n",
    "        for i in range(len(batch['input_ids'])):\n",
    "            pred_start = torch.argmax(start_logits[i]).item()\n",
    "            pred_end = torch.argmax(end_logits[i]).item()\n",
    "            \n",
    "            pred_tokens = tokenizer.decode(batch['input_ids'][i][pred_start:pred_end + 1])\n",
    "            true_tokens = tokenizer.decode(\n",
    "                batch['input_ids'][i][\n",
    "                    batch['start_positions'][i]:batch['end_positions'][i] + 1\n",
    "                ]\n",
    "            )\n",
    "            \n",
    "            results['exact_match'].append(\n",
    "                int(normalize_answer(pred_tokens) == normalize_answer(true_tokens))\n",
    "            )\n",
    "            results['f1'].append(compute_f1(pred_tokens, true_tokens))\n",
    "            results['bleu'].append(\n",
    "                sentence_bleu([true_tokens.split()], pred_tokens.split())\n",
    "            )\n",
    "\n",
    "print(\"\\nEvaluation Results:\")\n",
    "for metric, values in results.items():\n",
    "    print(f\"{metric}: {np.mean(values)*100:.2f}%\")"
   ]
  },
  {
   "cell_type": "code",
   "execution_count": 16,
   "id": "b06c1c84",
   "metadata": {},
   "outputs": [
    {
     "data": {
      "image/png": "[encoded data removed]",
      "text/plain": [
       "<Figure size 1000x600 with 1 Axes>"
      ]
     },
     "metadata": {},
     "output_type": "display_data"
    },
    {
     "name": "stdout",
     "output_type": "stream",
     "text": [
      "Training history plot saved as 'training_history-test-01.png'\n"
     ]
    }
   ],
   "source": [
    "# Cell 6: Plot Training History\n",
    "plt.figure(figsize=(10, 6))\n",
    "plt.plot(training_losses, label='Training Loss')\n",
    "plt.plot(validation_losses, label='Validation Loss')\n",
    "plt.title('Training and Validation Loss')\n",
    "plt.xlabel('Epoch')\n",
    "plt.ylabel('Loss')\n",
    "plt.legend()\n",
    "plt.savefig('training_history-test-01.png')\n",
    "plt.show()\n",
    "print(\"Training history plot saved as 'training_history-test-01.png'\")"
   ]
  },
  {
   "cell_type": "code",
   "execution_count": null,
   "id": "fc8e696c",
   "metadata": {},
   "outputs": [],
   "source": []
  }
 ],
 "metadata": {
  "kernelspec": {
   "display_name": "Python 3 (ipykernel)",
   "language": "python",
   "name": "python3"
  },
  "language_info": {
   "codemirror_mode": {
    "name": "ipython",
    "version": 3
   },
   "file_extension": ".py",
   "mimetype": "text/x-python",
   "name": "python",
   "nbconvert_exporter": "python",
   "pygments_lexer": "ipython3",
   "version": "3.9.13"
  }
 },
 "nbformat": 4,
 "nbformat_minor": 5
}
