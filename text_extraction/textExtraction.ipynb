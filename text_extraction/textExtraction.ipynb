{
 "cells": [
  {
   "cell_type": "code",
   "execution_count": 2,
   "metadata": {},
   "outputs": [
    {
     "name": "stdout",
     "output_type": "stream",
     "text": [
      "Collecting wikiscraper\n",
      "  Downloading wikiscraper-1.1.9-py3-none-any.whl (12 kB)\n",
      "Requirement already satisfied: requests in c:\\users\\jathusharini\\anaconda3\\lib\\site-packages (from wikiscraper) (2.28.1)\n",
      "Requirement already satisfied: beautifulsoup4 in c:\\users\\jathusharini\\anaconda3\\lib\\site-packages (from wikiscraper) (4.11.1)\n",
      "Requirement already satisfied: soupsieve>1.2 in c:\\users\\jathusharini\\anaconda3\\lib\\site-packages (from beautifulsoup4->wikiscraper) (2.3.1)\n",
      "Requirement already satisfied: certifi>=2017.4.17 in c:\\users\\jathusharini\\anaconda3\\lib\\site-packages (from requests->wikiscraper) (2022.9.14)\n",
      "Requirement already satisfied: idna<4,>=2.5 in c:\\users\\jathusharini\\anaconda3\\lib\\site-packages (from requests->wikiscraper) (3.3)\n",
      "Requirement already satisfied: charset-normalizer<3,>=2 in c:\\users\\jathusharini\\anaconda3\\lib\\site-packages (from requests->wikiscraper) (2.0.4)\n",
      "Requirement already satisfied: urllib3<1.27,>=1.21.1 in c:\\users\\jathusharini\\anaconda3\\lib\\site-packages (from requests->wikiscraper) (1.26.11)\n",
      "Installing collected packages: wikiscraper\n",
      "Successfully installed wikiscraper-1.1.9\n"
     ]
    }
   ],
   "source": [
    "!pip install wikiscraper"
   ]
  },
  {
   "cell_type": "code",
   "execution_count": 48,
   "metadata": {},
   "outputs": [
    {
     "name": "stdout",
     "output_type": "stream",
     "text": [
      "Title: இலங்கை\n",
      "இலங்கை (ஒலிப்பு) (Sri Lanka, சிங்களம்: ශ්‍රී ලංකා, சிறிலங்கா) இந்தியத் துணைக்கண்டத்தின் தென்கீழ் கரைக்கு அப்பால் இந்தியப் பெருங்கடலில் ஏறத்தாழ 20 மில்லியன் மக்கள் வாழும் ஒரு தீவு நாடு ஆகும். இதன் தற்போதைய அதிகாரபூர்வ பெயர் இலங்கை சனநாயக சோசலிசக் குடியரசு ஆகும். 1972 க்கு முன் உலகம் முழுவதும் சிலோன் (Ceylon) என்ற பெயரால் அறியப்பட்டு வந்தது.\n",
      "\n",
      "இலங்கையின் ஆவணப்படுத்தப்பட்ட வரலாறு மூவாயிரம் ஆண்டுகளைக் கொண்டது. இதன் புவியியல் அமைவு மற்றும் ஆழமான திருகோணமலை  துறைமுகம் என்பன புராதன பட்டுப் பாதை காலந்தொட்டு இரண்டாம் உலக யுத்தம் வரை தந்திரோபாய முக்கியத்துவத்தை வழங்கியுள்ளது. இலங்கை பல சமய, பல இன, பல மொழிகள் பேசுவோரின் தாயகமாகவுள்ளது. இது சிங்களவர், இலங்கைத் தமிழர், இலங்கைச் சோனகர், இந்திய வம்சாவளித் தமிழர், பறங்கியர், இலங்கை மலாயர், இலங்கை ஆப்பிரிக்கர் மற்றும் பூர்வீகக் குடிகளான வேடுவர் ஆகியோரின் தாயகமாகும். இலங்கை வளமான பௌத்த மரபுரிமையைக் கொண்டு, முதலாவது பௌத்த படைப்புக்களை இத்தீவில் உருவாக்கியது. இந்நாட்டின் தற்கால வரலாறு மூன்று தசாப்த கால ஈழப் போரில் அகப்பட்டு மே 2009 இல் இராணுவ ரீதியிலான வெற்றியுடன் முடிவுக்கு வந்துள்ளது.\n",
      "\n",
      "இலங்கை அதிபர் முறைமூலம் குடியரசு மற்றும் ஒற்றையாட்சி அரசால் ஆளப்படும் நாடாகும். கொழும்பு குடியேற்றவாத ஆட்சிக்காலம் முதலே இலங்கையின் தலைநகராக இருந்து வந்துள்ளது. 1977 ஆம் ஆண்டில், இலங்கையின் நிர்வாகத் தலைநகராக அண்மையில் உள்ள சிறீ ஜெயவர்த்தனபுர கோட்டையை ஆக்கும் பொருட்டு, புதிய நாடாளுமன்றக் கட்டிடம் அங்கே கட்டப்பட்டு, கொழும்பு நகரில் உள்ள சிறீ ஜெயவர்த்தனபுர கோட்டை தலைநகராக அமைந்துள்ளது. இலங்கை தேயிலை, கோப்பி, இரத்தினம், தெங்கு, இறப்பர், கருவா ஆகியவற்றை உற்பத்தி செய்கின்றது.\n",
      "\n",
      "இலங்கை \"இந்து சமுத்திரத்தின் முத்து\" என அதன் இயற்கை அழகினால் அழைக்கப்படுவதுண்டு. மேலும், இது \"புன்னகைக்கும் மக்களின் தேசம்\" எனவும் அறியப்படுவதுண்டு. இத்தீவு வெப்பமண்டலக் காடுகளையும் உயர் உயிரியற் பல்வகைமை கொண்ட பல்வேறுவகையான இயற்கை அமைப்பினைக் கொண்டது.\n",
      "\n",
      "இந்நாடு பன்னாட்டுத் தொடர்பில் நீண்ட வரலாற்றைக் கொண்டது. இது சார்க் ஆரம்ப உறுப்பினரும், ஐக்கிய நாடுகள் அவை, பொதுநலவாய நாடுகள், ஜி77, கூட்டுசேரா இயக்கம் ஆகியவற்றின் உறுப்பினரும் ஆகும். இது ஒன்றே தென்னாசியாவில் \"உயர்\" மனித வளர்ச்சிச் சுட்டெண் கொண்ட நாடாகும்.\n",
      "\n",
      "\n",
      "---\n",
      "\n",
      "Title: இலங்கை நாடாளுமன்றம்\n",
      "இலங்கை நாடாளுமன்றம் அல்லது இலங்கைப் பாராளுமன்றம் (Parliament of Sri Lanka) 225 அங்கத்தவர்களைக் கொண்ட ஓரவையுடைய சட்டமன்றமாகும். இலங்கை நாடாளுமன்றம் 6 ஆண்டுக்கால தவணையைக் கொண்டுள்ளது. ஐக்கிய இராச்சியத்தின் நாடாளுமன்றத்தை ஒத்த முறையை கொண்டுள்ளது. சபாநாயகர் அல்லது அவர் சமூகமளிக்காத போது  பிரதி சபாநாயகர் அல்லது குழுக்களின் தலைவர் அல்லது குழுக்களின் பிரதித் தலைவர் சபைக்கு தலைமை தாங்குவார். நாட்டின் நிறைவேற்றதிகாரம் கொண்ட அரசுத்தலைவர் நாடாளுமன்றத்தைக் கூட்டுவதற்கு அல்லது தற்காலிகமாக நிறுத்தி வைக்க அல்லது கலைப்பதற்கு அதிகாரத்தைக் கொண்டுள்ளார்.\n",
      "\n",
      "மொத்தம் 225 அங்கத்தவர்களில் 196 அங்கத்தவர்கள் 22 தேர்தல் மாவட்டங்களிலிருந்து பொது வாக்கெடுப்பின் மூலமும், மிகுதி 29 அங்கத்தவர்கள் தேசிய அளவில் கட்சிகள் பெரும் வாக்கு எண்ணிக்கைக்கேற்ப கட்சிகளின் தேசியப் பட்டியலிருந்தும் தெரிவு செய்யப்படுகின்றனர்.\n",
      "\n",
      "முதலாவது நாடாளுமன்றம் சம்பிரதாயபூர்வமாக ஆரம்பம்\n",
      "\n",
      "\n",
      "---\n",
      "\n",
      "Title: ஒல்லாந்தர் கால இலங்கை\n",
      "சிலோன் (Ceylon) என்று அழைக்கப்பட்ட இன்றைய இலங்கை கிபி 1656 முதல் கிபி 1796 வரை டச்சுக் கிழக்கிந்தியக் கம்பனியின் ஆளுகைக்குட்பட்ட நிருவாகமாகவிருந்தது. 17ம் நூற்றாண்டின் ஆரம்பத்தில் இடச்சுக் குடியரசு ஐரோப்பிய நாடுகளிடையே வாணிப, திறன்மிக்க சக்திகளில் ஒன்றாக உருவாகியது. இடச்சு துணிச்சலான கடற்பயணத்தைத் தெரியாத கடலிற்கும் நிலத்திற்கும் மேற்கொண்டு சிறப்புப் பெற்றது. 1602 இல் டச்சுக் கிழக்கிந்தியக் கம்பனி அல்லது ஐக்கிய டச்சுக் கிழக்கிந்தியக் கம்பனி உருவாக்கப்பட்டது. சில தசாப்தங்களில் இது பரந்தளவிலான இடங்களை தென்னாப்பிரிக்கா, இலங்கை, இந்தோனேசியா ஆகிய நாடுகளில் கட்டுப்படுத்தி, குறிப்பிடத்தக்கக் குடியிருப்புக்களை இந்தியா, மலேசியா, சப்பான், சீனா ஆகிய நாடுகளில் உருவாக்கியது. 17ம் நூற்றாண்டின் ஆரம்பத்தில் இலங்கை போர்த்துக்கேயராலும், சிங்கள அரசாலும் பகுதி பகுதியாக ஆளப்பட்டு, இரண்டு ஆட்சியாளர்களும் அடிக்கடி மோதிக் கொண்டிருந்தனர்.\n",
      "\n",
      "\n",
      "---\n",
      "\n",
      "Title: கம்பளை இராசதானி\n",
      "கம்பளை இராசதானி தம்பதெனியா இராசதானிக்கு பிறகு இலங்கையில் காணப்பட்ட இரசாதானியாகும். 1300களில் மக்கள் தம்பதெனியாஇலிருந்து மகாவலி கங்கையின் கரையோரத்தில் காணப்பட்ட கம்பளைப் பகுதிக்கு இடம்பெயர தொடங்கினர். இதனால் தம்பதெனியா இரசதானியின் கடைசி அரசனான விசயபாகுவிற்கு பிறகு அரசாட்சியேறிய 6 ஆம் புவனேகபாகு தனது தலைநகரை கம்பளைக்கு மாற்றினான். இதேவேளை அவனது சகோதரனும் ஐந்தாம் பராக்கிரமபாகு என்ற பெயரில் தெடிகமையிருந்து அரசாண்டான். இதனால் ஒரு இராசதானிக்கு இரண்டு அரசர்கள் காணப்பட்டார்கள்.\n",
      "\n",
      "\n",
      "---\n",
      "\n",
      "Title: முதலாம் உலகப் போர்\n",
      "முதலாம் உலகப் போர் என்பது வரலாற்றின் உலகளாவிய சண்டைகளில் அதிக உயிரிழப்பை ஏற்படுத்திய போர்களில் ஒன்றாகும். பெரும்பாலான ஐரோப்பா, உருசியப் பேரரசு, அமெரிக்க ஐக்கிய நாடுகள் மற்றும் உதுமானியப் பேரரசு ஆகியவை இதில் கலந்து கொண்டன. ஐரோப்பா முழுவதும், மத்திய கிழக்கு, ஆப்பிரிக்கா, பசிபிக் மற்றும் ஆசியாவின் பகுதிகளில் சண்டைகள் நடைபெற்றன. சண்டைகளில் 90 இலட்சம் இராணுவ வீரர்கள் கொல்லப்பட்டதாக மதிப்பிடப்பட்டுள்ளது. மேலும் 2.3 கோடி இராணுவ வீரர்கள் காயம் அடைந்தனர். அதே நேரத்தில் இராணுவ நடவடிக்கை, பட்டினி, மற்றும் நோய் ஆகியவற்றின் விளைவாக 50 இலட்சம் குடிமக்கள் இறந்தனர். உதுமானியப் பேரரசுக்குள் நடைபெற்ற இனப்படுகொலைகள் மற்றும் 1918 இன்புளுவென்சா தொற்றுப் பரவல் ஆகியவற்றின் காரணமாகத் தசம இலட்சங்களில் மேலும் பலர் இறந்தனர். போரின் போது இராணுவ வீரர்களின் பயணம் காரணமாக நோய்த் தொற்றானது கடுமையானது.\n",
      "\n",
      "1914க்கு முன்னர் ஐரோப்பிய உலக வல்லமைகள் முந்நேச நாடுகள் (பிரான்சு, உருசியா மற்றும் பிரிட்டன்) மற்றும் முக்கூட்டணி நாடுகள் (செருமனி, ஆத்திரியா-அங்கேரி மற்றும் இத்தாலி) ஆகிய இரு பிரிவாகப் பிரிந்து இருந்தன. ஆத்திரியா-அங்கேரியின் இளவரசரான பிரான்சு பெர்டினான்டைக் காவ்ரீலோ பிரின்சிப் என்ற ஒரு போசுனிய செர்பிய இளைஞன் அரசியல் கொலை செய்ததைத் தொடர்ந்து, பால்கன் குடாவில் இருந்த பதட்டங்கள் 28 சூன் 1914 அன்று போராக உருவெடுத்தன. ஆத்திரியா-அங்கேரி செர்பியாவை இதற்குக் குற்றம் சாட்டியது. இது சூலை பிரச்சினைக்கு இட்டுச் சென்றது. சண்டையைத் தவிர்ப்பதற்காக ஒரு வெற்றியடையாத முயற்சியாக நடந்த பேச்சுவார்த்தையே சூலைப் பிரச்சினை என்று அழைக்கப்படுகிறது. 28 சூலை 1914 அன்று ஆத்திரியா-அங்கேரி செர்பியா மீது போரை அறிவித்தது. செர்பியாவின் தற்காப்பிற்காக உருசியா வந்தது. ஆகத்து 4ஆம் தேதி வாக்கில் செருமனி, பிரான்சு மற்றும் பிரிட்டன் ஆகியவை அவற்றின் காலனிகளுடன் போருக்குள் இழுக்கப்பட்டன. நவம்பர் 1914இல் உதுமானியப் பேரரசு, செருமனி மற்றும் ஆத்திரியா-அங்கேரி ஆகியவை மைய சக்திகள் என்ற அமைப்பை உருவாக்கின. 26 ஏப்ரல் 1915இல் பிரிட்டன், பிரான்சு, உருசியா மற்றும் செர்பியாவுடன் இத்தாலி இணைந்தது. இவை முதலாம் உலகப் போரின் நேச நாடுகள் என்று அழைக்கப்பட்டன.\n",
      "\n",
      "1914இல் செருமானிய உத்தியானது தனது படைகளைப் பிரான்சை ஆறு வாரங்களில் தோற்கடிப்பதற்குப் பயன்படுத்தி, பிறகு அவற்றைக் கிழக்குப் போர்முனைக்கு நகர்த்தி உருசியாவையும் அதே போல் தோற்கடிப்பது ஆகும். எனினும், செப்டம்பர் 1914இல் மர்னே என்ற இடத்தில் செருமானியப் படை தோற்கடிக்கப்பட்டது. மேற்குப் போர் முனையின் பக்கவாட்டில் இரு பிரிவினரும் எதிர்கொண்டதுடன் அந்த ஆண்டு முடிவடைந்தது. மேற்குப் போர்முனை என்பது ஆங்கிலேயக் கால்வாய் முதல் சுவிட்சர்லாந்து வரையில் தோண்டப்பட்டிருந்த ஒரு தொடர்ச்சியான பதுங்கு குழிகள் ஆகும். 1917 வரை மேற்கிலிருந்த போர் முனைகளில் சிறிதளவே மாற்றம் நிகழ்ந்து. அதே நேரத்தில், கிழக்குப் போர் முனையில் அடிக்கடி மாற்றங்கள் ஏற்பட்டன. ஆத்திரியா-அங்கேரி மற்றும் உருசியா ஆகிய இரண்டு நாடுகளுமே பெரும் அளவிலான நிலப்பரப்பை வென்றும் இழந்தும் வந்தன. மற்ற முக்கியமான போர் அரங்குகளானவை மத்திய கிழக்கு, இத்தாலி, ஆசியா பசிபிக் மற்றும் பால்கன் பகுதி ஆகியவை ஆகும். பால்கன் பகுதியில் பல்கேரியா, உருமேனியா மற்றும் கிரேக்கம் ஆகிய நாடுகள் போருக்குள் இழுக்கப்பட்டன. 1915ஆம் ஆண்டு முழுவதும் உருசியா மற்றும் ஆத்திரியா-அங்கேரி ஆகிய இரு நாடுகளுமே பெரும் அளவிலான உயிரிழப்புகளைக் கிழக்கில் சந்தித்தன. அதே நேரத்தில், கலிப்பொலி மற்றும் மேற்குப் போர் முனையில் நேச நாடுகளின் தாக்குதல்கள் தோல்வியில் முடிந்தன. 1916இல் வெர்துனில் நடைபெற்ற செருமானியத் தாக்குதல்கள் மற்றும் சொம்மேயின் மீது நடத்தப்பட்ட பிராங்கோ-பிரித்தானியத் தாக்குதல் ஆகியவை சிறிதளவே பலனைக் கொடுத்து, ஏராளமான இழப்புகளுக்கு இட்டுச் சென்றன. அதே நேரத்தில், உருசியப் புருசிலோவ் தாக்குதலானது ஆரம்பத்தில் வெற்றிகரமாக அமைந்த போதும் பிறகு நிறுத்தப்பட்டது. 1917இல் உருசியாவில் புரட்சி ஏற்படும் நிலை இருந்தது. பிரெஞ்சு நிவெல் தாக்குதலானது தோல்வியில் முடிந்தது. பிரித்தானிய, பிரெஞ்சு மற்றும் செருமானியப் படைகள் கடுமையான இழப்புகளைச் சந்தித்தன. இது பங்கெடுத்த அனைத்து நாடுகளுக்கும் வீரர்கள் பற்றாக்குறையை ஏற்படுத்தியது. கடுமையான பொருளாதார அழுத்தத்தின் கீழ் கொண்டு வந்தது. நேச நாடுகள் கடல் முற்றுகை நடத்தியதன் காரணமாக ஏற்பட்ட பற்றாக்குறைங்கள் செருமனியைக் கட்டுப்பாடற்ற நீர்மூழ்கிப் போர் முறையைத் தொடங்குவதற்கு இட்டுச் சென்றன. இதனால் 6 ஏப்ரல் 1917 அன்று முன்னர் நடுநிலை வகித்த ஐக்கிய அமெரிக்கா போருக்குள் இழுக்கப்பட்டது.\n",
      "\n",
      "உருசியாவில் 1917 அக்டோபர் புரட்சியில் போல்செவிக்குகள் அதிகாரத்தைக் கைப்பற்றினர். மார்ச் 1918இல் பிரெசுது-லிதோவ்சுகு ஒப்பந்தத்துடன் போரில் இருந்து வெளியேறினர். பெருமளவு எண்ணிக்கையிலான செருமானியத் துருப்புகளை விடுதலை செய்தனர். இந்த மேற்கொண்ட வீரர்களைப் பயன்படுத்திச் செருமனியானது மார்ச் 1918இல் தாக்குதலைத் தொடங்கியது. ஆனால், பிடிவாதமான நேச நாடுகளின் தற்காப்பு, கடுமையான இழப்புகள் மற்றும் இராணுவப் பொருட்கள் பற்றாக்குறை ஆகியவை காரணமாக இத்தாக்குதல் நிறுத்தப்பட்டது. நேச நாடுகள் ஆகத்து மாதத்தில் நூறு நாட்கள் தாக்குதலைத் தொடங்கிய போது ஏகாதிபத்தியச் செருமானிய இராணுவமானது தொடர்ந்து கடுமையாகச் சண்டையிட்டது. ஆனால், நேச நாடுகளின் முன்னேற்றத்தைத் தாமதப்படுத்த மட்டுமே அவர்களால் முடிந்தது. அதைத் தடுக்க இயலவில்லை. 1918இன் இறுதியில் மைய சக்திகள் சிதைவுறத் தொடங்கின. 29 செப்டம்பர் அன்று பல்கேரியாவும், 31 அக்டோபர் அன்று உதுமானியர்களும், பிறகு 3 நவம்பர் அன்று ஆத்திரியா-அங்கேரியும் போர்நிறுத்த ஒப்பந்தங்களில் கையொப்பமிட்டன. தாய் நாட்டில் செருமானிப் புரட்சியை எதிர் நோக்கி இருந்தது, கிளர்ச்சியில் ஈடுபடத் தயாராக இருந்த தனது இராணுவம் மற்றும் தனிமைப்படுத்தப்பட்டது ஆகியவை காரணமாக 9 நவம்பர் அன்று இரண்டாம் வில்லியம் தனது பதவியைத் துறந்தார். புதிய செருமானிய அரசாங்கமானது 11 நவம்பர் 1918இல் போர் நிறுத்த ஒப்பந்தத்தில் கையொப்பமிட்டது. இது போரை முடிவுக்குக் கொண்டு வந்தது. இந்தத் தோற்கடிக்கப்பட்ட சக்திகள் மீது 1919-20ஆம் ஆண்டின் பாரிசு அமைதி மாநாடானது பல்வேறு ஒப்பந்தங்களை விதித்தது. இதில் பலராலும் அறியப்பட்ட ஒன்று வெர்சாய் ஒப்பந்தமாகும். 1917இல் உருசியப் பேரரசு, 1918இல் செருமானியப் பேரரசு, 1920இல் ஆத்திரியா-அங்கேரியப் பேரரசு மற்றும் 1922இல் உதுமானியப் பேரரசு ஆகியவற்றின் கலைப்புகள் பல்வேறு மக்கள் எழுச்சிகளுக்கு இட்டுச் சென்றன. போலந்து, செக்கோஸ்லோவாக்கியா மற்றும் யுகோசுலாவியா உள்ளிட்ட சுதந்திர நாடுகளின் உருவாக்கத்திற்கு இட்டுச் சென்றன. இன்றும் விவாதத்திற்குரியதாக உள்ள ஒரு சில காரணங்கள், போருக்கு இடைப்பட்ட காலங்களின் போது இந்த எழுச்சி மூலம் ஏற்பட்ட நிலையற்ற தன்மையைக் கையாள்வதில் அடைந்த தோல்வி ஆகியவை செப்டம்பர் 1939இல் இரண்டாம் உலகப் போரின் வெடிப்பில் முடிந்தது.\n",
      "\n",
      "\n",
      "---\n",
      "\n"
     ]
    },
    {
     "name": "stdout",
     "output_type": "stream",
     "text": [
      "Title: ஈரான் – ஈராக் போர்\n",
      "ஈரான் – ஈராக் போர் ஈரானை ஈராக் செப்டம்பர் 1980 ல் ஆக்கிரமித்தபோது ஆரம்பமாகியது. இது ஆகஸ்ட் 1988 ல் ஐக்கிய நாடுகள் சபையின் அனுசரணையுடன் முடிவுக்கு கொண்டு வரப்பட்டது. இந்த யுத்தம் 20ஆம் நூற்றாண்டின் மிக நீண்டதும் கடும் அழிவுகளை ஏற்படுத்திய போர்களில் ஒன்றாகும். இதன் போது சுமார் ஒரு மில்லியன் அளவான நபர்கள் காயமடைந்தோ கொல்லப்பட்டோ யுத்தத்தினால் பாதிக்கப்பட்டனர். இந்த போர் முடிவுக்கு வந்துள்ள போதிலும் யுத்தத்திற்கான அடிப்படை காரணிகள் இன்னும் தீர்க்கப்படவில்லை.\n",
      "\n",
      "\n",
      "---\n",
      "\n"
     ]
    }
   ],
   "source": [
    "import wikiscraper as ws\n",
    "\n",
    "ws.lang(\"ta\")\n",
    "\n",
    "def fetch_wikipedia_content(topics, num_paragraphs=5\n",
    "                            ):\n",
    "    \"\"\"Fetches the title and abstracts (specified number of paragraphs) for a list of Wikipedia topics.\"\"\"\n",
    "    for topic in topics:\n",
    "        result = ws.searchBySlug(topic)\n",
    "\n",
    "        if result is not None:\n",
    "            # Print the title of the topic\n",
    "            print(f\"Title: {result.getTitle()}\")\n",
    "\n",
    "            # Get the abstract as a list of paragraphs\n",
    "            paragraphs = result.getAbstract(num_paragraphs)\n",
    "\n",
    "            # Check if paragraphs is a list and print each paragraph\n",
    "            if isinstance(paragraphs, list):\n",
    "                # Print up to the specified number of paragraphs\n",
    "                for i in range(min(num_paragraphs, len(paragraphs))):\n",
    "                    print(paragraphs[i])\n",
    "                    print()  # Add a blank line between paragraphs for readability\n",
    "            else:\n",
    "                print(\"Abstract is not in the expected list format.\")\n",
    "        else:\n",
    "            print(f\"No content found for topic: {topic}\")\n",
    "\n",
    "        # Divider for readability\n",
    "        print(\"\\n---\\n\")\n",
    "\n",
    "# List of Wikipedia topics to search\n",
    "topics = [\n",
    "    \"இலங்கை\",\n",
    "    \"இலங்கை_நாடாளுமன்றம்\",\n",
    "    \"ஒல்லாந்தர்_கால_இலங்கை\",\n",
    "    \"கம்பளை_இராசதானி\",\n",
    "    \"முதலாம் உலகப் போர்\",\n",
    "    \"ஈரான் – ஈராக் போர்\"\n",
    "    # \"கண்டி_இராச்சியம்\"\n",
    "    # \"இலங்கையில் தமிழர் - ஒரு முழுமையான வரலாறு (நூல்)\",\n",
    "    # \"இலங்கையின்_கலாசாரம்\",\n",
    "    # \"அறிவியலின்_வரலாறு\",\n",
    "    # \"இலங்கையின்_வரலாறு\",\n",
    "    # \"சங்ககால_இலங்கை\",\n",
    "    # \"இரண்டாம்_உலகப்_போர்\",\n",
    "    # \"இலங்கை நாடு\"\n",
    "]\n",
    "\n",
    "# Call the function with the list of topics\n",
    "fetch_wikipedia_content(topics, num_paragraphs=5\n",
    "                        )\n"
   ]
  },
  {
   "cell_type": "code",
   "execution_count": null,
   "metadata": {},
   "outputs": [],
   "source": []
  },
  {
   "cell_type": "markdown",
   "metadata": {},
   "source": [
    "# Extracting the text to the notepad"
   ]
  },
  {
   "cell_type": "code",
   "execution_count": null,
   "metadata": {},
   "outputs": [],
   "source": []
  },
  {
   "cell_type": "code",
   "execution_count": null,
   "metadata": {},
   "outputs": [],
   "source": []
  },
  {
   "cell_type": "code",
   "execution_count": null,
   "metadata": {},
   "outputs": [],
   "source": []
  },
  {
   "cell_type": "code",
   "execution_count": 1,
   "metadata": {},
   "outputs": [],
   "source": [
    "import wikiscraper as ws\n",
    "\n",
    "# Set the language to Tamil\n",
    "ws.lang(\"ta\")\n",
    "\n",
    "def save_abstract_to_file(file, title, paragraphs, num_paragraphs):\n",
    "    \"\"\"Saves the title and the specified number of paragraphs from the abstract to a file.\"\"\"\n",
    "    file.write(f\"Title: {title}\\n\\n\")  # Write the title\n",
    "    if isinstance(paragraphs, list):\n",
    "        # Write up to the specified number of paragraphs\n",
    "        for i in range(min(num_paragraphs, len(paragraphs))):\n",
    "            file.write(paragraphs[i] + \"\\n\\n\")  # Add a blank line between paragraphs\n",
    "    else:\n",
    "        file.write(\"Abstract is not in the expected list format.\\n\")\n",
    "    file.write(\"\\n---\\n\")  # Divider for readability\n"
   ]
  },
  {
   "cell_type": "code",
   "execution_count": 2,
   "metadata": {},
   "outputs": [],
   "source": [
    "def fetch_wikipedia_content(topics, num_paragraphs=5\n",
    "                            , filename='wikipedia_content.txt'):\n",
    "    \"\"\"Fetches and saves the title and abstracts for a list of Wikipedia topics to a file.\"\"\"\n",
    "    with open(filename, 'w', encoding='utf-8') as file:\n",
    "        for topic in topics:\n",
    "            result = ws.searchBySlug(topic)\n",
    "            if result:\n",
    "                title = result.getTitle()\n",
    "                paragraphs = result.getAbstract(num_paragraphs)\n",
    "                save_abstract_to_file(file, title, paragraphs, num_paragraphs)\n",
    "            else:\n",
    "                file.write(f\"No content found for topic: {topic}\\n\")\n",
    "                file.write(\"\\n---\\n\")  # Divider for readability"
   ]
  },
  {
   "cell_type": "code",
   "execution_count": 3,
   "outputs": [],
   "source": [
    "# List of history-related Wikipedia topics to search\n",
    "history_topics = [\n",
    "    \"இலங்கை\",\n",
    "    \"இலங்கை_நாடாளுமன்றம்\",\n",
    "    \"ஒல்லாந்தர்_கால_இலங்கை\",\n",
    "    \"கம்பளை_இராசதானி\",\n",
    "    \"முதலாம்_உலகப்_போர்\",\n",
    "    \"ஈரான் – ஈராக்_போர்\",\n",
    "    \"ஈழப்_போர்\"\n",
    "]\n"
   ],
   "metadata": {
    "collapsed": false
   }
  },
  {
   "cell_type": "code",
   "execution_count": 4,
   "outputs": [],
   "source": [
    "# List of science-related Wikipedia topics to search\n",
    "science_topics = [\n",
    "    \"வேதியியல்\",\n",
    "    \"உயிரியல்\"\n",
    "]"
   ],
   "metadata": {
    "collapsed": false
   }
  },
  {
   "cell_type": "code",
   "execution_count": 24,
   "outputs": [],
   "source": [
    "# List of culture-related Wikipedia topics to search\n",
    "culture_topics = [\n",
    "    \"பண்பாடு\"\n",
    "]"
   ],
   "metadata": {
    "collapsed": false
   }
  },
  {
   "cell_type": "code",
   "execution_count": 25,
   "metadata": {},
   "outputs": [],
   "source": [
    "# List of technology-related Wikipedia topics to search\n",
    "technology_topics = [\n",
    "    \"தொழினுட்பம்\"\n",
    "]"
   ]
  },
  {
   "cell_type": "code",
   "execution_count": 26,
   "outputs": [],
   "source": [
    "# List of sports-related Wikipedia topics to search\n",
    "sports_topics = [\n",
    "    \"\"\n",
    "]"
   ],
   "metadata": {
    "collapsed": false
   }
  },
  {
   "cell_type": "code",
   "execution_count": 8,
   "outputs": [],
   "source": [
    "# List of literature-related Wikipedia topics to search\n",
    "literature_topics = [\n",
    "    \"இலக்கியத்திற்கான நோபல் பரிசு\"\n",
    "]"
   ],
   "metadata": {
    "collapsed": false
   }
  },
  {
   "cell_type": "code",
   "execution_count": 18,
   "outputs": [],
   "source": [
    "# Call the function with the list of history-related topics\n",
    "fetch_wikipedia_content(history_topics, num_paragraphs=5, filename='wikipedia_history.txt')"
   ],
   "metadata": {
    "collapsed": false
   }
  },
  {
   "cell_type": "code",
   "execution_count": 19,
   "outputs": [],
   "source": [
    "# Call the function with the list of science-related topics\n",
    "fetch_wikipedia_content(science_topics, num_paragraphs=5, filename='wikipedia_science.txt')"
   ],
   "metadata": {
    "collapsed": false
   }
  },
  {
   "cell_type": "code",
   "execution_count": 27,
   "outputs": [],
   "source": [
    "# Call the function with the list of culture-related topics\n",
    "fetch_wikipedia_content(culture_topics, num_paragraphs=5, filename='wikipedia_culture.txt')"
   ],
   "metadata": {
    "collapsed": false
   }
  },
  {
   "cell_type": "code",
   "execution_count": 28,
   "metadata": {},
   "outputs": [],
   "source": [
    "# Call the function with the list of technology-related topics\n",
    "fetch_wikipedia_content(technology_topics, num_paragraphs=5, filename='wikipedia_technology.txt')"
   ]
  },
  {
   "cell_type": "code",
   "execution_count": 29,
   "metadata": {},
   "outputs": [],
   "source": [
    "# Call the function with the list of sports-related topics\n",
    "fetch_wikipedia_content(sports_topics, num_paragraphs=5, filename='wikipedia_sports.txt')"
   ]
  },
  {
   "cell_type": "code",
   "execution_count": 23,
   "metadata": {},
   "outputs": [],
   "source": [
    "# Call the function with the list of literature-related topics\n",
    "fetch_wikipedia_content(literature_topics, num_paragraphs=5, filename='wikipedia_literature.txt')"
   ]
  },
  {
   "cell_type": "code",
   "execution_count": null,
   "outputs": [],
   "source": [],
   "metadata": {
    "collapsed": false
   }
  },
  {
   "cell_type": "code",
   "execution_count": null,
   "outputs": [],
   "source": [],
   "metadata": {
    "collapsed": false
   }
  },
  {
   "cell_type": "code",
   "execution_count": 1,
   "outputs": [
    {
     "name": "stdout",
     "output_type": "stream",
     "text": [
      "Collecting datasets\n",
      "  Downloading datasets-2.13.2-py3-none-any.whl.metadata (20 kB)\n",
      "Requirement already satisfied: numpy>=1.17 in c:\\users\\jathusharini\\venv\\lib\\site-packages (from datasets) (1.21.6)\n",
      "Collecting pyarrow>=8.0.0 (from datasets)\n",
      "  Downloading pyarrow-12.0.1-cp37-cp37m-win_amd64.whl.metadata (3.1 kB)\n",
      "Requirement already satisfied: dill<0.3.7,>=0.3.0 in c:\\users\\jathusharini\\venv\\lib\\site-packages (from datasets) (0.3.6)\n",
      "Requirement already satisfied: pandas in c:\\users\\jathusharini\\venv\\lib\\site-packages (from datasets) (1.3.5)\n",
      "Requirement already satisfied: requests>=2.19.0 in c:\\users\\jathusharini\\venv\\lib\\site-packages (from datasets) (2.31.0)\n",
      "Requirement already satisfied: tqdm>=4.62.1 in c:\\users\\jathusharini\\venv\\lib\\site-packages (from datasets) (4.66.1)\n",
      "Requirement already satisfied: xxhash in c:\\users\\jathusharini\\venv\\lib\\site-packages (from datasets) (3.2.0)\n",
      "Requirement already satisfied: multiprocess in c:\\users\\jathusharini\\venv\\lib\\site-packages (from datasets) (0.70.14)\n",
      "Collecting fsspec>=2021.11.1 (from fsspec[http]>=2021.11.1->datasets)\n",
      "  Downloading fsspec-2023.1.0-py3-none-any.whl.metadata (5.5 kB)\n",
      "Requirement already satisfied: aiohttp in c:\\users\\jathusharini\\venv\\lib\\site-packages (from datasets) (3.8.3)\n",
      "Collecting huggingface-hub<1.0.0,>=0.11.0 (from datasets)\n",
      "  Downloading huggingface_hub-0.16.4-py3-none-any.whl.metadata (12 kB)\n",
      "Requirement already satisfied: packaging in c:\\users\\jathusharini\\venv\\lib\\site-packages (from datasets) (23.1)\n",
      "Requirement already satisfied: pyyaml>=5.1 in c:\\users\\jathusharini\\venv\\lib\\site-packages (from datasets) (6.0.1)\n",
      "Requirement already satisfied: importlib-metadata in c:\\users\\jathusharini\\venv\\lib\\site-packages (from datasets) (4.13.0)\n",
      "Requirement already satisfied: attrs>=17.3.0 in c:\\users\\jathusharini\\venv\\lib\\site-packages (from aiohttp->datasets) (22.2.0)\n",
      "Collecting charset-normalizer<3.0,>=2.0 (from aiohttp->datasets)\n",
      "  Downloading charset_normalizer-2.1.1-py3-none-any.whl.metadata (11 kB)\n",
      "Requirement already satisfied: multidict<7.0,>=4.5 in c:\\users\\jathusharini\\venv\\lib\\site-packages (from aiohttp->datasets) (6.0.4)\n",
      "Requirement already satisfied: async-timeout<5.0,>=4.0.0a3 in c:\\users\\jathusharini\\venv\\lib\\site-packages (from aiohttp->datasets) (4.0.2)\n",
      "Requirement already satisfied: yarl<2.0,>=1.0 in c:\\users\\jathusharini\\venv\\lib\\site-packages (from aiohttp->datasets) (1.8.2)\n",
      "Requirement already satisfied: frozenlist>=1.1.1 in c:\\users\\jathusharini\\venv\\lib\\site-packages (from aiohttp->datasets) (1.3.3)\n",
      "Requirement already satisfied: aiosignal>=1.1.2 in c:\\users\\jathusharini\\venv\\lib\\site-packages (from aiohttp->datasets) (1.3.1)\n",
      "Requirement already satisfied: asynctest==0.13.0 in c:\\users\\jathusharini\\venv\\lib\\site-packages (from aiohttp->datasets) (0.13.0)\n",
      "Requirement already satisfied: typing-extensions>=3.7.4 in c:\\users\\jathusharini\\venv\\lib\\site-packages (from aiohttp->datasets) (4.7.1)\n",
      "Collecting filelock (from huggingface-hub<1.0.0,>=0.11.0->datasets)\n",
      "  Downloading filelock-3.12.2-py3-none-any.whl.metadata (2.7 kB)\n",
      "Requirement already satisfied: idna<4,>=2.5 in c:\\users\\jathusharini\\venv\\lib\\site-packages (from requests>=2.19.0->datasets) (3.4)\n",
      "Requirement already satisfied: urllib3<3,>=1.21.1 in c:\\users\\jathusharini\\venv\\lib\\site-packages (from requests>=2.19.0->datasets) (1.26.16)\n",
      "Requirement already satisfied: certifi>=2017.4.17 in c:\\users\\jathusharini\\venv\\lib\\site-packages (from requests>=2.19.0->datasets) (2023.7.22)\n",
      "Requirement already satisfied: colorama in c:\\users\\jathusharini\\venv\\lib\\site-packages (from tqdm>=4.62.1->datasets) (0.4.6)\n",
      "Requirement already satisfied: zipp>=0.5 in c:\\users\\jathusharini\\venv\\lib\\site-packages (from importlib-metadata->datasets) (3.12.0)\n",
      "Requirement already satisfied: python-dateutil>=2.7.3 in c:\\users\\jathusharini\\venv\\lib\\site-packages (from pandas->datasets) (2.8.2)\n",
      "Requirement already satisfied: pytz>=2017.3 in c:\\users\\jathusharini\\venv\\lib\\site-packages (from pandas->datasets) (2023.3)\n",
      "Requirement already satisfied: six>=1.5 in c:\\users\\jathusharini\\venv\\lib\\site-packages (from python-dateutil>=2.7.3->pandas->datasets) (1.16.0)\n",
      "Downloading datasets-2.13.2-py3-none-any.whl (512 kB)\n",
      "   -------------------------------------- 512.7/512.7 kB 785.1 kB/s eta 0:00:00\n",
      "Downloading fsspec-2023.1.0-py3-none-any.whl (143 kB)\n",
      "   -------------------------------------- 143.0/143.0 kB 531.2 kB/s eta 0:00:00\n",
      "Downloading huggingface_hub-0.16.4-py3-none-any.whl (268 kB)\n",
      "   ---------------------------------------- 268.8/268.8 kB 1.7 MB/s eta 0:00:00\n",
      "Downloading pyarrow-12.0.1-cp37-cp37m-win_amd64.whl (21.5 MB)\n",
      "   ---------------------------------------- 21.5/21.5 MB 792.5 kB/s eta 0:00:00\n",
      "Downloading charset_normalizer-2.1.1-py3-none-any.whl (39 kB)\n",
      "Downloading filelock-3.12.2-py3-none-any.whl (10 kB)\n",
      "Installing collected packages: pyarrow, fsspec, filelock, charset-normalizer, huggingface-hub, datasets\n",
      "  Attempting uninstall: charset-normalizer\n",
      "    Found existing installation: charset-normalizer 3.2.0\n",
      "    Uninstalling charset-normalizer-3.2.0:\n",
      "      Successfully uninstalled charset-normalizer-3.2.0\n",
      "Successfully installed charset-normalizer-2.1.1 datasets-2.13.2 filelock-3.12.2 fsspec-2023.1.0 huggingface-hub-0.16.4 pyarrow-12.0.1\n"
     ]
    }
   ],
   "source": [
    "!pip install datasets\n"
   ],
   "metadata": {
    "collapsed": false
   }
  },
  {
   "cell_type": "code",
   "execution_count": 3,
   "outputs": [
    {
     "ename": "KeyboardInterrupt",
     "evalue": "",
     "output_type": "error",
     "traceback": [
      "\u001B[1;31m---------------------------------------------------------------------------\u001B[0m",
      "\u001B[1;31mKeyboardInterrupt\u001B[0m                         Traceback (most recent call last)",
      "\u001B[1;32m~\\AppData\\Local\\Temp\\ipykernel_11724\\3759744042.py\u001B[0m in \u001B[0;36m<module>\u001B[1;34m\u001B[0m\n\u001B[0;32m      2\u001B[0m \u001B[1;33m\u001B[0m\u001B[0m\n\u001B[0;32m      3\u001B[0m \u001B[1;31m# Replace 'dataset_name' with the actual name of the dataset you want to download\u001B[0m\u001B[1;33m\u001B[0m\u001B[1;33m\u001B[0m\u001B[1;33m\u001B[0m\u001B[0m\n\u001B[1;32m----> 4\u001B[1;33m \u001B[0mdataset\u001B[0m \u001B[1;33m=\u001B[0m \u001B[0mload_dataset\u001B[0m\u001B[1;33m(\u001B[0m\u001B[1;34m'AswiN037/tamil-question-answering-dataset'\u001B[0m\u001B[1;33m)\u001B[0m\u001B[1;33m\u001B[0m\u001B[1;33m\u001B[0m\u001B[0m\n\u001B[0m\u001B[0;32m      5\u001B[0m \u001B[1;33m\u001B[0m\u001B[0m\n\u001B[0;32m      6\u001B[0m \u001B[1;31m# If you want a specific configuration, you can specify it as follows:\u001B[0m\u001B[1;33m\u001B[0m\u001B[1;33m\u001B[0m\u001B[1;33m\u001B[0m\u001B[0m\n",
      "\u001B[1;32m~\\venv\\lib\\site-packages\\datasets\\load.py\u001B[0m in \u001B[0;36mload_dataset\u001B[1;34m(path, name, data_dir, data_files, split, cache_dir, features, download_config, download_mode, verification_mode, ignore_verifications, keep_in_memory, save_infos, revision, use_auth_token, task, streaming, num_proc, storage_options, **config_kwargs)\u001B[0m\n\u001B[0;32m   1795\u001B[0m         \u001B[0muse_auth_token\u001B[0m\u001B[1;33m=\u001B[0m\u001B[0muse_auth_token\u001B[0m\u001B[1;33m,\u001B[0m\u001B[1;33m\u001B[0m\u001B[1;33m\u001B[0m\u001B[0m\n\u001B[0;32m   1796\u001B[0m         \u001B[0mstorage_options\u001B[0m\u001B[1;33m=\u001B[0m\u001B[0mstorage_options\u001B[0m\u001B[1;33m,\u001B[0m\u001B[1;33m\u001B[0m\u001B[1;33m\u001B[0m\u001B[0m\n\u001B[1;32m-> 1797\u001B[1;33m         \u001B[1;33m**\u001B[0m\u001B[0mconfig_kwargs\u001B[0m\u001B[1;33m,\u001B[0m\u001B[1;33m\u001B[0m\u001B[1;33m\u001B[0m\u001B[0m\n\u001B[0m\u001B[0;32m   1798\u001B[0m     )\n\u001B[0;32m   1799\u001B[0m \u001B[1;33m\u001B[0m\u001B[0m\n",
      "\u001B[1;32m~\\venv\\lib\\site-packages\\datasets\\load.py\u001B[0m in \u001B[0;36mload_dataset_builder\u001B[1;34m(path, name, data_dir, data_files, cache_dir, features, download_config, download_mode, revision, use_auth_token, storage_options, **config_kwargs)\u001B[0m\n\u001B[0;32m   1518\u001B[0m         \u001B[0mdownload_mode\u001B[0m\u001B[1;33m=\u001B[0m\u001B[0mdownload_mode\u001B[0m\u001B[1;33m,\u001B[0m\u001B[1;33m\u001B[0m\u001B[1;33m\u001B[0m\u001B[0m\n\u001B[0;32m   1519\u001B[0m         \u001B[0mdata_dir\u001B[0m\u001B[1;33m=\u001B[0m\u001B[0mdata_dir\u001B[0m\u001B[1;33m,\u001B[0m\u001B[1;33m\u001B[0m\u001B[1;33m\u001B[0m\u001B[0m\n\u001B[1;32m-> 1520\u001B[1;33m         \u001B[0mdata_files\u001B[0m\u001B[1;33m=\u001B[0m\u001B[0mdata_files\u001B[0m\u001B[1;33m,\u001B[0m\u001B[1;33m\u001B[0m\u001B[1;33m\u001B[0m\u001B[0m\n\u001B[0m\u001B[0;32m   1521\u001B[0m     )\n\u001B[0;32m   1522\u001B[0m \u001B[1;33m\u001B[0m\u001B[0m\n",
      "\u001B[1;32m~\\venv\\lib\\site-packages\\datasets\\load.py\u001B[0m in \u001B[0;36mdataset_module_factory\u001B[1;34m(path, revision, download_config, download_mode, dynamic_modules_path, data_dir, data_files, **download_kwargs)\u001B[0m\n\u001B[0;32m   1212\u001B[0m                     \u001B[0mdata_files\u001B[0m\u001B[1;33m=\u001B[0m\u001B[0mdata_files\u001B[0m\u001B[1;33m,\u001B[0m\u001B[1;33m\u001B[0m\u001B[1;33m\u001B[0m\u001B[0m\n\u001B[0;32m   1213\u001B[0m                     \u001B[0mdownload_config\u001B[0m\u001B[1;33m=\u001B[0m\u001B[0mdownload_config\u001B[0m\u001B[1;33m,\u001B[0m\u001B[1;33m\u001B[0m\u001B[1;33m\u001B[0m\u001B[0m\n\u001B[1;32m-> 1214\u001B[1;33m                     \u001B[0mdownload_mode\u001B[0m\u001B[1;33m=\u001B[0m\u001B[0mdownload_mode\u001B[0m\u001B[1;33m,\u001B[0m\u001B[1;33m\u001B[0m\u001B[1;33m\u001B[0m\u001B[0m\n\u001B[0m\u001B[0;32m   1215\u001B[0m                 ).get_module()\n\u001B[0;32m   1216\u001B[0m         except (\n",
      "\u001B[1;32m~\\venv\\lib\\site-packages\\datasets\\load.py\u001B[0m in \u001B[0;36m__init__\u001B[1;34m(self, name, revision, data_dir, data_files, download_config, download_mode)\u001B[0m\n\u001B[0;32m    766\u001B[0m         \u001B[0mself\u001B[0m\u001B[1;33m.\u001B[0m\u001B[0mdownload_config\u001B[0m \u001B[1;33m=\u001B[0m \u001B[0mdownload_config\u001B[0m \u001B[1;32mor\u001B[0m \u001B[0mDownloadConfig\u001B[0m\u001B[1;33m(\u001B[0m\u001B[1;33m)\u001B[0m\u001B[1;33m\u001B[0m\u001B[1;33m\u001B[0m\u001B[0m\n\u001B[0;32m    767\u001B[0m         \u001B[0mself\u001B[0m\u001B[1;33m.\u001B[0m\u001B[0mdownload_mode\u001B[0m \u001B[1;33m=\u001B[0m \u001B[0mdownload_mode\u001B[0m\u001B[1;33m\u001B[0m\u001B[1;33m\u001B[0m\u001B[0m\n\u001B[1;32m--> 768\u001B[1;33m         \u001B[0mincrease_load_count\u001B[0m\u001B[1;33m(\u001B[0m\u001B[0mname\u001B[0m\u001B[1;33m,\u001B[0m \u001B[0mresource_type\u001B[0m\u001B[1;33m=\u001B[0m\u001B[1;34m\"dataset\"\u001B[0m\u001B[1;33m)\u001B[0m\u001B[1;33m\u001B[0m\u001B[1;33m\u001B[0m\u001B[0m\n\u001B[0m\u001B[0;32m    769\u001B[0m \u001B[1;33m\u001B[0m\u001B[0m\n\u001B[0;32m    770\u001B[0m     \u001B[1;32mdef\u001B[0m \u001B[0mget_module\u001B[0m\u001B[1;33m(\u001B[0m\u001B[0mself\u001B[0m\u001B[1;33m)\u001B[0m \u001B[1;33m->\u001B[0m \u001B[0mDatasetModule\u001B[0m\u001B[1;33m:\u001B[0m\u001B[1;33m\u001B[0m\u001B[1;33m\u001B[0m\u001B[0m\n",
      "\u001B[1;32m~\\venv\\lib\\site-packages\\datasets\\load.py\u001B[0m in \u001B[0;36mincrease_load_count\u001B[1;34m(name, resource_type)\u001B[0m\n\u001B[0;32m    159\u001B[0m     \u001B[1;32mif\u001B[0m \u001B[1;32mnot\u001B[0m \u001B[0mconfig\u001B[0m\u001B[1;33m.\u001B[0m\u001B[0mHF_DATASETS_OFFLINE\u001B[0m \u001B[1;32mand\u001B[0m \u001B[0mconfig\u001B[0m\u001B[1;33m.\u001B[0m\u001B[0mHF_UPDATE_DOWNLOAD_COUNTS\u001B[0m\u001B[1;33m:\u001B[0m\u001B[1;33m\u001B[0m\u001B[1;33m\u001B[0m\u001B[0m\n\u001B[0;32m    160\u001B[0m         \u001B[1;32mtry\u001B[0m\u001B[1;33m:\u001B[0m\u001B[1;33m\u001B[0m\u001B[1;33m\u001B[0m\u001B[0m\n\u001B[1;32m--> 161\u001B[1;33m             \u001B[0mhead_hf_s3\u001B[0m\u001B[1;33m(\u001B[0m\u001B[0mname\u001B[0m\u001B[1;33m,\u001B[0m \u001B[0mfilename\u001B[0m\u001B[1;33m=\u001B[0m\u001B[0mname\u001B[0m \u001B[1;33m+\u001B[0m \u001B[1;34m\".py\"\u001B[0m\u001B[1;33m,\u001B[0m \u001B[0mdataset\u001B[0m\u001B[1;33m=\u001B[0m\u001B[1;33m(\u001B[0m\u001B[0mresource_type\u001B[0m \u001B[1;33m==\u001B[0m \u001B[1;34m\"dataset\"\u001B[0m\u001B[1;33m)\u001B[0m\u001B[1;33m)\u001B[0m\u001B[1;33m\u001B[0m\u001B[1;33m\u001B[0m\u001B[0m\n\u001B[0m\u001B[0;32m    162\u001B[0m         \u001B[1;32mexcept\u001B[0m \u001B[0mException\u001B[0m\u001B[1;33m:\u001B[0m\u001B[1;33m\u001B[0m\u001B[1;33m\u001B[0m\u001B[0m\n\u001B[0;32m    163\u001B[0m             \u001B[1;32mpass\u001B[0m\u001B[1;33m\u001B[0m\u001B[1;33m\u001B[0m\u001B[0m\n",
      "\u001B[1;32m~\\venv\\lib\\site-packages\\datasets\\utils\\file_utils.py\u001B[0m in \u001B[0;36mhead_hf_s3\u001B[1;34m(identifier, filename, use_cdn, dataset, max_retries)\u001B[0m\n\u001B[0;32m     96\u001B[0m     return http_head(\n\u001B[0;32m     97\u001B[0m         \u001B[0mhf_bucket_url\u001B[0m\u001B[1;33m(\u001B[0m\u001B[0midentifier\u001B[0m\u001B[1;33m=\u001B[0m\u001B[0midentifier\u001B[0m\u001B[1;33m,\u001B[0m \u001B[0mfilename\u001B[0m\u001B[1;33m=\u001B[0m\u001B[0mfilename\u001B[0m\u001B[1;33m,\u001B[0m \u001B[0muse_cdn\u001B[0m\u001B[1;33m=\u001B[0m\u001B[0muse_cdn\u001B[0m\u001B[1;33m,\u001B[0m \u001B[0mdataset\u001B[0m\u001B[1;33m=\u001B[0m\u001B[0mdataset\u001B[0m\u001B[1;33m)\u001B[0m\u001B[1;33m,\u001B[0m\u001B[1;33m\u001B[0m\u001B[1;33m\u001B[0m\u001B[0m\n\u001B[1;32m---> 98\u001B[1;33m         \u001B[0mmax_retries\u001B[0m\u001B[1;33m=\u001B[0m\u001B[0mmax_retries\u001B[0m\u001B[1;33m,\u001B[0m\u001B[1;33m\u001B[0m\u001B[1;33m\u001B[0m\u001B[0m\n\u001B[0m\u001B[0;32m     99\u001B[0m     )\n\u001B[0;32m    100\u001B[0m \u001B[1;33m\u001B[0m\u001B[0m\n",
      "\u001B[1;32m~\\venv\\lib\\site-packages\\datasets\\utils\\file_utils.py\u001B[0m in \u001B[0;36mhttp_head\u001B[1;34m(url, proxies, headers, cookies, allow_redirects, timeout, max_retries)\u001B[0m\n\u001B[0;32m    418\u001B[0m         \u001B[0mallow_redirects\u001B[0m\u001B[1;33m=\u001B[0m\u001B[0mallow_redirects\u001B[0m\u001B[1;33m,\u001B[0m\u001B[1;33m\u001B[0m\u001B[1;33m\u001B[0m\u001B[0m\n\u001B[0;32m    419\u001B[0m         \u001B[0mtimeout\u001B[0m\u001B[1;33m=\u001B[0m\u001B[0mtimeout\u001B[0m\u001B[1;33m,\u001B[0m\u001B[1;33m\u001B[0m\u001B[1;33m\u001B[0m\u001B[0m\n\u001B[1;32m--> 420\u001B[1;33m         \u001B[0mmax_retries\u001B[0m\u001B[1;33m=\u001B[0m\u001B[0mmax_retries\u001B[0m\u001B[1;33m,\u001B[0m\u001B[1;33m\u001B[0m\u001B[1;33m\u001B[0m\u001B[0m\n\u001B[0m\u001B[0;32m    421\u001B[0m     )\n\u001B[0;32m    422\u001B[0m     \u001B[1;32mreturn\u001B[0m \u001B[0mresponse\u001B[0m\u001B[1;33m\u001B[0m\u001B[1;33m\u001B[0m\u001B[0m\n",
      "\u001B[1;32m~\\venv\\lib\\site-packages\\datasets\\utils\\file_utils.py\u001B[0m in \u001B[0;36m_request_with_retry\u001B[1;34m(method, url, max_retries, base_wait_time, max_wait_time, timeout, **params)\u001B[0m\n\u001B[0;32m    317\u001B[0m         \u001B[0mtries\u001B[0m \u001B[1;33m+=\u001B[0m \u001B[1;36m1\u001B[0m\u001B[1;33m\u001B[0m\u001B[1;33m\u001B[0m\u001B[0m\n\u001B[0;32m    318\u001B[0m         \u001B[1;32mtry\u001B[0m\u001B[1;33m:\u001B[0m\u001B[1;33m\u001B[0m\u001B[1;33m\u001B[0m\u001B[0m\n\u001B[1;32m--> 319\u001B[1;33m             \u001B[0mresponse\u001B[0m \u001B[1;33m=\u001B[0m \u001B[0mrequests\u001B[0m\u001B[1;33m.\u001B[0m\u001B[0mrequest\u001B[0m\u001B[1;33m(\u001B[0m\u001B[0mmethod\u001B[0m\u001B[1;33m=\u001B[0m\u001B[0mmethod\u001B[0m\u001B[1;33m.\u001B[0m\u001B[0mupper\u001B[0m\u001B[1;33m(\u001B[0m\u001B[1;33m)\u001B[0m\u001B[1;33m,\u001B[0m \u001B[0murl\u001B[0m\u001B[1;33m=\u001B[0m\u001B[0murl\u001B[0m\u001B[1;33m,\u001B[0m \u001B[0mtimeout\u001B[0m\u001B[1;33m=\u001B[0m\u001B[0mtimeout\u001B[0m\u001B[1;33m,\u001B[0m \u001B[1;33m**\u001B[0m\u001B[0mparams\u001B[0m\u001B[1;33m)\u001B[0m\u001B[1;33m\u001B[0m\u001B[1;33m\u001B[0m\u001B[0m\n\u001B[0m\u001B[0;32m    320\u001B[0m             \u001B[0msuccess\u001B[0m \u001B[1;33m=\u001B[0m \u001B[1;32mTrue\u001B[0m\u001B[1;33m\u001B[0m\u001B[1;33m\u001B[0m\u001B[0m\n\u001B[0;32m    321\u001B[0m         \u001B[1;32mexcept\u001B[0m \u001B[1;33m(\u001B[0m\u001B[0mrequests\u001B[0m\u001B[1;33m.\u001B[0m\u001B[0mexceptions\u001B[0m\u001B[1;33m.\u001B[0m\u001B[0mConnectTimeout\u001B[0m\u001B[1;33m,\u001B[0m \u001B[0mrequests\u001B[0m\u001B[1;33m.\u001B[0m\u001B[0mexceptions\u001B[0m\u001B[1;33m.\u001B[0m\u001B[0mConnectionError\u001B[0m\u001B[1;33m)\u001B[0m \u001B[1;32mas\u001B[0m \u001B[0merr\u001B[0m\u001B[1;33m:\u001B[0m\u001B[1;33m\u001B[0m\u001B[1;33m\u001B[0m\u001B[0m\n",
      "\u001B[1;32m~\\venv\\lib\\site-packages\\requests\\api.py\u001B[0m in \u001B[0;36mrequest\u001B[1;34m(method, url, **kwargs)\u001B[0m\n\u001B[0;32m     57\u001B[0m     \u001B[1;31m# cases, and look like a memory leak in others.\u001B[0m\u001B[1;33m\u001B[0m\u001B[1;33m\u001B[0m\u001B[1;33m\u001B[0m\u001B[0m\n\u001B[0;32m     58\u001B[0m     \u001B[1;32mwith\u001B[0m \u001B[0msessions\u001B[0m\u001B[1;33m.\u001B[0m\u001B[0mSession\u001B[0m\u001B[1;33m(\u001B[0m\u001B[1;33m)\u001B[0m \u001B[1;32mas\u001B[0m \u001B[0msession\u001B[0m\u001B[1;33m:\u001B[0m\u001B[1;33m\u001B[0m\u001B[1;33m\u001B[0m\u001B[0m\n\u001B[1;32m---> 59\u001B[1;33m         \u001B[1;32mreturn\u001B[0m \u001B[0msession\u001B[0m\u001B[1;33m.\u001B[0m\u001B[0mrequest\u001B[0m\u001B[1;33m(\u001B[0m\u001B[0mmethod\u001B[0m\u001B[1;33m=\u001B[0m\u001B[0mmethod\u001B[0m\u001B[1;33m,\u001B[0m \u001B[0murl\u001B[0m\u001B[1;33m=\u001B[0m\u001B[0murl\u001B[0m\u001B[1;33m,\u001B[0m \u001B[1;33m**\u001B[0m\u001B[0mkwargs\u001B[0m\u001B[1;33m)\u001B[0m\u001B[1;33m\u001B[0m\u001B[1;33m\u001B[0m\u001B[0m\n\u001B[0m\u001B[0;32m     60\u001B[0m \u001B[1;33m\u001B[0m\u001B[0m\n\u001B[0;32m     61\u001B[0m \u001B[1;33m\u001B[0m\u001B[0m\n",
      "\u001B[1;32m~\\venv\\lib\\site-packages\\requests\\sessions.py\u001B[0m in \u001B[0;36mrequest\u001B[1;34m(self, method, url, params, data, headers, cookies, files, auth, timeout, allow_redirects, proxies, hooks, stream, verify, cert, json)\u001B[0m\n\u001B[0;32m    587\u001B[0m         }\n\u001B[0;32m    588\u001B[0m         \u001B[0msend_kwargs\u001B[0m\u001B[1;33m.\u001B[0m\u001B[0mupdate\u001B[0m\u001B[1;33m(\u001B[0m\u001B[0msettings\u001B[0m\u001B[1;33m)\u001B[0m\u001B[1;33m\u001B[0m\u001B[1;33m\u001B[0m\u001B[0m\n\u001B[1;32m--> 589\u001B[1;33m         \u001B[0mresp\u001B[0m \u001B[1;33m=\u001B[0m \u001B[0mself\u001B[0m\u001B[1;33m.\u001B[0m\u001B[0msend\u001B[0m\u001B[1;33m(\u001B[0m\u001B[0mprep\u001B[0m\u001B[1;33m,\u001B[0m \u001B[1;33m**\u001B[0m\u001B[0msend_kwargs\u001B[0m\u001B[1;33m)\u001B[0m\u001B[1;33m\u001B[0m\u001B[1;33m\u001B[0m\u001B[0m\n\u001B[0m\u001B[0;32m    590\u001B[0m \u001B[1;33m\u001B[0m\u001B[0m\n\u001B[0;32m    591\u001B[0m         \u001B[1;32mreturn\u001B[0m \u001B[0mresp\u001B[0m\u001B[1;33m\u001B[0m\u001B[1;33m\u001B[0m\u001B[0m\n",
      "\u001B[1;32m~\\venv\\lib\\site-packages\\requests\\sessions.py\u001B[0m in \u001B[0;36msend\u001B[1;34m(self, request, **kwargs)\u001B[0m\n\u001B[0;32m    701\u001B[0m \u001B[1;33m\u001B[0m\u001B[0m\n\u001B[0;32m    702\u001B[0m         \u001B[1;31m# Send the request\u001B[0m\u001B[1;33m\u001B[0m\u001B[1;33m\u001B[0m\u001B[1;33m\u001B[0m\u001B[0m\n\u001B[1;32m--> 703\u001B[1;33m         \u001B[0mr\u001B[0m \u001B[1;33m=\u001B[0m \u001B[0madapter\u001B[0m\u001B[1;33m.\u001B[0m\u001B[0msend\u001B[0m\u001B[1;33m(\u001B[0m\u001B[0mrequest\u001B[0m\u001B[1;33m,\u001B[0m \u001B[1;33m**\u001B[0m\u001B[0mkwargs\u001B[0m\u001B[1;33m)\u001B[0m\u001B[1;33m\u001B[0m\u001B[1;33m\u001B[0m\u001B[0m\n\u001B[0m\u001B[0;32m    704\u001B[0m \u001B[1;33m\u001B[0m\u001B[0m\n\u001B[0;32m    705\u001B[0m         \u001B[1;31m# Total elapsed time of the request (approximately)\u001B[0m\u001B[1;33m\u001B[0m\u001B[1;33m\u001B[0m\u001B[1;33m\u001B[0m\u001B[0m\n",
      "\u001B[1;32m~\\venv\\lib\\site-packages\\requests\\adapters.py\u001B[0m in \u001B[0;36msend\u001B[1;34m(self, request, stream, timeout, verify, cert, proxies)\u001B[0m\n\u001B[0;32m    495\u001B[0m                 \u001B[0mretries\u001B[0m\u001B[1;33m=\u001B[0m\u001B[0mself\u001B[0m\u001B[1;33m.\u001B[0m\u001B[0mmax_retries\u001B[0m\u001B[1;33m,\u001B[0m\u001B[1;33m\u001B[0m\u001B[1;33m\u001B[0m\u001B[0m\n\u001B[0;32m    496\u001B[0m                 \u001B[0mtimeout\u001B[0m\u001B[1;33m=\u001B[0m\u001B[0mtimeout\u001B[0m\u001B[1;33m,\u001B[0m\u001B[1;33m\u001B[0m\u001B[1;33m\u001B[0m\u001B[0m\n\u001B[1;32m--> 497\u001B[1;33m                 \u001B[0mchunked\u001B[0m\u001B[1;33m=\u001B[0m\u001B[0mchunked\u001B[0m\u001B[1;33m,\u001B[0m\u001B[1;33m\u001B[0m\u001B[1;33m\u001B[0m\u001B[0m\n\u001B[0m\u001B[0;32m    498\u001B[0m             )\n\u001B[0;32m    499\u001B[0m \u001B[1;33m\u001B[0m\u001B[0m\n",
      "\u001B[1;32m~\\venv\\lib\\site-packages\\urllib3\\connectionpool.py\u001B[0m in \u001B[0;36murlopen\u001B[1;34m(self, method, url, body, headers, retries, redirect, assert_same_host, timeout, pool_timeout, release_conn, chunked, body_pos, **response_kw)\u001B[0m\n\u001B[0;32m    719\u001B[0m                 \u001B[0mbody\u001B[0m\u001B[1;33m=\u001B[0m\u001B[0mbody\u001B[0m\u001B[1;33m,\u001B[0m\u001B[1;33m\u001B[0m\u001B[1;33m\u001B[0m\u001B[0m\n\u001B[0;32m    720\u001B[0m                 \u001B[0mheaders\u001B[0m\u001B[1;33m=\u001B[0m\u001B[0mheaders\u001B[0m\u001B[1;33m,\u001B[0m\u001B[1;33m\u001B[0m\u001B[1;33m\u001B[0m\u001B[0m\n\u001B[1;32m--> 721\u001B[1;33m                 \u001B[0mchunked\u001B[0m\u001B[1;33m=\u001B[0m\u001B[0mchunked\u001B[0m\u001B[1;33m,\u001B[0m\u001B[1;33m\u001B[0m\u001B[1;33m\u001B[0m\u001B[0m\n\u001B[0m\u001B[0;32m    722\u001B[0m             )\n\u001B[0;32m    723\u001B[0m \u001B[1;33m\u001B[0m\u001B[0m\n",
      "\u001B[1;32m~\\venv\\lib\\site-packages\\urllib3\\connectionpool.py\u001B[0m in \u001B[0;36m_make_request\u001B[1;34m(self, conn, method, url, timeout, chunked, **httplib_request_kw)\u001B[0m\n\u001B[0;32m    464\u001B[0m                     \u001B[1;31m# Python 3 (including for exceptions like SystemExit).\u001B[0m\u001B[1;33m\u001B[0m\u001B[1;33m\u001B[0m\u001B[1;33m\u001B[0m\u001B[0m\n\u001B[0;32m    465\u001B[0m                     \u001B[1;31m# Otherwise it looks like a bug in the code.\u001B[0m\u001B[1;33m\u001B[0m\u001B[1;33m\u001B[0m\u001B[1;33m\u001B[0m\u001B[0m\n\u001B[1;32m--> 466\u001B[1;33m                     \u001B[0msix\u001B[0m\u001B[1;33m.\u001B[0m\u001B[0mraise_from\u001B[0m\u001B[1;33m(\u001B[0m\u001B[0me\u001B[0m\u001B[1;33m,\u001B[0m \u001B[1;32mNone\u001B[0m\u001B[1;33m)\u001B[0m\u001B[1;33m\u001B[0m\u001B[1;33m\u001B[0m\u001B[0m\n\u001B[0m\u001B[0;32m    467\u001B[0m         \u001B[1;32mexcept\u001B[0m \u001B[1;33m(\u001B[0m\u001B[0mSocketTimeout\u001B[0m\u001B[1;33m,\u001B[0m \u001B[0mBaseSSLError\u001B[0m\u001B[1;33m,\u001B[0m \u001B[0mSocketError\u001B[0m\u001B[1;33m)\u001B[0m \u001B[1;32mas\u001B[0m \u001B[0me\u001B[0m\u001B[1;33m:\u001B[0m\u001B[1;33m\u001B[0m\u001B[1;33m\u001B[0m\u001B[0m\n\u001B[0;32m    468\u001B[0m             \u001B[0mself\u001B[0m\u001B[1;33m.\u001B[0m\u001B[0m_raise_timeout\u001B[0m\u001B[1;33m(\u001B[0m\u001B[0merr\u001B[0m\u001B[1;33m=\u001B[0m\u001B[0me\u001B[0m\u001B[1;33m,\u001B[0m \u001B[0murl\u001B[0m\u001B[1;33m=\u001B[0m\u001B[0murl\u001B[0m\u001B[1;33m,\u001B[0m \u001B[0mtimeout_value\u001B[0m\u001B[1;33m=\u001B[0m\u001B[0mread_timeout\u001B[0m\u001B[1;33m)\u001B[0m\u001B[1;33m\u001B[0m\u001B[1;33m\u001B[0m\u001B[0m\n",
      "\u001B[1;32m~\\venv\\lib\\site-packages\\urllib3\\packages\\six.py\u001B[0m in \u001B[0;36mraise_from\u001B[1;34m(value, from_value)\u001B[0m\n",
      "\u001B[1;32m~\\venv\\lib\\site-packages\\urllib3\\connectionpool.py\u001B[0m in \u001B[0;36m_make_request\u001B[1;34m(self, conn, method, url, timeout, chunked, **httplib_request_kw)\u001B[0m\n\u001B[0;32m    459\u001B[0m                 \u001B[1;31m# Python 3\u001B[0m\u001B[1;33m\u001B[0m\u001B[1;33m\u001B[0m\u001B[1;33m\u001B[0m\u001B[0m\n\u001B[0;32m    460\u001B[0m                 \u001B[1;32mtry\u001B[0m\u001B[1;33m:\u001B[0m\u001B[1;33m\u001B[0m\u001B[1;33m\u001B[0m\u001B[0m\n\u001B[1;32m--> 461\u001B[1;33m                     \u001B[0mhttplib_response\u001B[0m \u001B[1;33m=\u001B[0m \u001B[0mconn\u001B[0m\u001B[1;33m.\u001B[0m\u001B[0mgetresponse\u001B[0m\u001B[1;33m(\u001B[0m\u001B[1;33m)\u001B[0m\u001B[1;33m\u001B[0m\u001B[1;33m\u001B[0m\u001B[0m\n\u001B[0m\u001B[0;32m    462\u001B[0m                 \u001B[1;32mexcept\u001B[0m \u001B[0mBaseException\u001B[0m \u001B[1;32mas\u001B[0m \u001B[0me\u001B[0m\u001B[1;33m:\u001B[0m\u001B[1;33m\u001B[0m\u001B[1;33m\u001B[0m\u001B[0m\n\u001B[0;32m    463\u001B[0m                     \u001B[1;31m# Remove the TypeError from the exception chain in\u001B[0m\u001B[1;33m\u001B[0m\u001B[1;33m\u001B[0m\u001B[1;33m\u001B[0m\u001B[0m\n",
      "\u001B[1;32m~\\AppData\\Local\\Programs\\Python\\Python37\\lib\\http\\client.py\u001B[0m in \u001B[0;36mgetresponse\u001B[1;34m(self)\u001B[0m\n\u001B[0;32m   1334\u001B[0m         \u001B[1;32mtry\u001B[0m\u001B[1;33m:\u001B[0m\u001B[1;33m\u001B[0m\u001B[1;33m\u001B[0m\u001B[0m\n\u001B[0;32m   1335\u001B[0m             \u001B[1;32mtry\u001B[0m\u001B[1;33m:\u001B[0m\u001B[1;33m\u001B[0m\u001B[1;33m\u001B[0m\u001B[0m\n\u001B[1;32m-> 1336\u001B[1;33m                 \u001B[0mresponse\u001B[0m\u001B[1;33m.\u001B[0m\u001B[0mbegin\u001B[0m\u001B[1;33m(\u001B[0m\u001B[1;33m)\u001B[0m\u001B[1;33m\u001B[0m\u001B[1;33m\u001B[0m\u001B[0m\n\u001B[0m\u001B[0;32m   1337\u001B[0m             \u001B[1;32mexcept\u001B[0m \u001B[0mConnectionError\u001B[0m\u001B[1;33m:\u001B[0m\u001B[1;33m\u001B[0m\u001B[1;33m\u001B[0m\u001B[0m\n\u001B[0;32m   1338\u001B[0m                 \u001B[0mself\u001B[0m\u001B[1;33m.\u001B[0m\u001B[0mclose\u001B[0m\u001B[1;33m(\u001B[0m\u001B[1;33m)\u001B[0m\u001B[1;33m\u001B[0m\u001B[1;33m\u001B[0m\u001B[0m\n",
      "\u001B[1;32m~\\AppData\\Local\\Programs\\Python\\Python37\\lib\\http\\client.py\u001B[0m in \u001B[0;36mbegin\u001B[1;34m(self)\u001B[0m\n\u001B[0;32m    304\u001B[0m         \u001B[1;31m# read until we get a non-100 response\u001B[0m\u001B[1;33m\u001B[0m\u001B[1;33m\u001B[0m\u001B[1;33m\u001B[0m\u001B[0m\n\u001B[0;32m    305\u001B[0m         \u001B[1;32mwhile\u001B[0m \u001B[1;32mTrue\u001B[0m\u001B[1;33m:\u001B[0m\u001B[1;33m\u001B[0m\u001B[1;33m\u001B[0m\u001B[0m\n\u001B[1;32m--> 306\u001B[1;33m             \u001B[0mversion\u001B[0m\u001B[1;33m,\u001B[0m \u001B[0mstatus\u001B[0m\u001B[1;33m,\u001B[0m \u001B[0mreason\u001B[0m \u001B[1;33m=\u001B[0m \u001B[0mself\u001B[0m\u001B[1;33m.\u001B[0m\u001B[0m_read_status\u001B[0m\u001B[1;33m(\u001B[0m\u001B[1;33m)\u001B[0m\u001B[1;33m\u001B[0m\u001B[1;33m\u001B[0m\u001B[0m\n\u001B[0m\u001B[0;32m    307\u001B[0m             \u001B[1;32mif\u001B[0m \u001B[0mstatus\u001B[0m \u001B[1;33m!=\u001B[0m \u001B[0mCONTINUE\u001B[0m\u001B[1;33m:\u001B[0m\u001B[1;33m\u001B[0m\u001B[1;33m\u001B[0m\u001B[0m\n\u001B[0;32m    308\u001B[0m                 \u001B[1;32mbreak\u001B[0m\u001B[1;33m\u001B[0m\u001B[1;33m\u001B[0m\u001B[0m\n",
      "\u001B[1;32m~\\AppData\\Local\\Programs\\Python\\Python37\\lib\\http\\client.py\u001B[0m in \u001B[0;36m_read_status\u001B[1;34m(self)\u001B[0m\n\u001B[0;32m    265\u001B[0m \u001B[1;33m\u001B[0m\u001B[0m\n\u001B[0;32m    266\u001B[0m     \u001B[1;32mdef\u001B[0m \u001B[0m_read_status\u001B[0m\u001B[1;33m(\u001B[0m\u001B[0mself\u001B[0m\u001B[1;33m)\u001B[0m\u001B[1;33m:\u001B[0m\u001B[1;33m\u001B[0m\u001B[1;33m\u001B[0m\u001B[0m\n\u001B[1;32m--> 267\u001B[1;33m         \u001B[0mline\u001B[0m \u001B[1;33m=\u001B[0m \u001B[0mstr\u001B[0m\u001B[1;33m(\u001B[0m\u001B[0mself\u001B[0m\u001B[1;33m.\u001B[0m\u001B[0mfp\u001B[0m\u001B[1;33m.\u001B[0m\u001B[0mreadline\u001B[0m\u001B[1;33m(\u001B[0m\u001B[0m_MAXLINE\u001B[0m \u001B[1;33m+\u001B[0m \u001B[1;36m1\u001B[0m\u001B[1;33m)\u001B[0m\u001B[1;33m,\u001B[0m \u001B[1;34m\"iso-8859-1\"\u001B[0m\u001B[1;33m)\u001B[0m\u001B[1;33m\u001B[0m\u001B[1;33m\u001B[0m\u001B[0m\n\u001B[0m\u001B[0;32m    268\u001B[0m         \u001B[1;32mif\u001B[0m \u001B[0mlen\u001B[0m\u001B[1;33m(\u001B[0m\u001B[0mline\u001B[0m\u001B[1;33m)\u001B[0m \u001B[1;33m>\u001B[0m \u001B[0m_MAXLINE\u001B[0m\u001B[1;33m:\u001B[0m\u001B[1;33m\u001B[0m\u001B[1;33m\u001B[0m\u001B[0m\n\u001B[0;32m    269\u001B[0m             \u001B[1;32mraise\u001B[0m \u001B[0mLineTooLong\u001B[0m\u001B[1;33m(\u001B[0m\u001B[1;34m\"status line\"\u001B[0m\u001B[1;33m)\u001B[0m\u001B[1;33m\u001B[0m\u001B[1;33m\u001B[0m\u001B[0m\n",
      "\u001B[1;32m~\\AppData\\Local\\Programs\\Python\\Python37\\lib\\socket.py\u001B[0m in \u001B[0;36mreadinto\u001B[1;34m(self, b)\u001B[0m\n\u001B[0;32m    587\u001B[0m         \u001B[1;32mwhile\u001B[0m \u001B[1;32mTrue\u001B[0m\u001B[1;33m:\u001B[0m\u001B[1;33m\u001B[0m\u001B[1;33m\u001B[0m\u001B[0m\n\u001B[0;32m    588\u001B[0m             \u001B[1;32mtry\u001B[0m\u001B[1;33m:\u001B[0m\u001B[1;33m\u001B[0m\u001B[1;33m\u001B[0m\u001B[0m\n\u001B[1;32m--> 589\u001B[1;33m                 \u001B[1;32mreturn\u001B[0m \u001B[0mself\u001B[0m\u001B[1;33m.\u001B[0m\u001B[0m_sock\u001B[0m\u001B[1;33m.\u001B[0m\u001B[0mrecv_into\u001B[0m\u001B[1;33m(\u001B[0m\u001B[0mb\u001B[0m\u001B[1;33m)\u001B[0m\u001B[1;33m\u001B[0m\u001B[1;33m\u001B[0m\u001B[0m\n\u001B[0m\u001B[0;32m    590\u001B[0m             \u001B[1;32mexcept\u001B[0m \u001B[0mtimeout\u001B[0m\u001B[1;33m:\u001B[0m\u001B[1;33m\u001B[0m\u001B[1;33m\u001B[0m\u001B[0m\n\u001B[0;32m    591\u001B[0m                 \u001B[0mself\u001B[0m\u001B[1;33m.\u001B[0m\u001B[0m_timeout_occurred\u001B[0m \u001B[1;33m=\u001B[0m \u001B[1;32mTrue\u001B[0m\u001B[1;33m\u001B[0m\u001B[1;33m\u001B[0m\u001B[0m\n",
      "\u001B[1;32m~\\AppData\\Local\\Programs\\Python\\Python37\\lib\\ssl.py\u001B[0m in \u001B[0;36mrecv_into\u001B[1;34m(self, buffer, nbytes, flags)\u001B[0m\n\u001B[0;32m   1069\u001B[0m                   \u001B[1;34m\"non-zero flags not allowed in calls to recv_into() on %s\"\u001B[0m \u001B[1;33m%\u001B[0m\u001B[1;33m\u001B[0m\u001B[1;33m\u001B[0m\u001B[0m\n\u001B[0;32m   1070\u001B[0m                   self.__class__)\n\u001B[1;32m-> 1071\u001B[1;33m             \u001B[1;32mreturn\u001B[0m \u001B[0mself\u001B[0m\u001B[1;33m.\u001B[0m\u001B[0mread\u001B[0m\u001B[1;33m(\u001B[0m\u001B[0mnbytes\u001B[0m\u001B[1;33m,\u001B[0m \u001B[0mbuffer\u001B[0m\u001B[1;33m)\u001B[0m\u001B[1;33m\u001B[0m\u001B[1;33m\u001B[0m\u001B[0m\n\u001B[0m\u001B[0;32m   1072\u001B[0m         \u001B[1;32melse\u001B[0m\u001B[1;33m:\u001B[0m\u001B[1;33m\u001B[0m\u001B[1;33m\u001B[0m\u001B[0m\n\u001B[0;32m   1073\u001B[0m             \u001B[1;32mreturn\u001B[0m \u001B[0msuper\u001B[0m\u001B[1;33m(\u001B[0m\u001B[1;33m)\u001B[0m\u001B[1;33m.\u001B[0m\u001B[0mrecv_into\u001B[0m\u001B[1;33m(\u001B[0m\u001B[0mbuffer\u001B[0m\u001B[1;33m,\u001B[0m \u001B[0mnbytes\u001B[0m\u001B[1;33m,\u001B[0m \u001B[0mflags\u001B[0m\u001B[1;33m)\u001B[0m\u001B[1;33m\u001B[0m\u001B[1;33m\u001B[0m\u001B[0m\n",
      "\u001B[1;32m~\\AppData\\Local\\Programs\\Python\\Python37\\lib\\ssl.py\u001B[0m in \u001B[0;36mread\u001B[1;34m(self, len, buffer)\u001B[0m\n\u001B[0;32m    927\u001B[0m         \u001B[1;32mtry\u001B[0m\u001B[1;33m:\u001B[0m\u001B[1;33m\u001B[0m\u001B[1;33m\u001B[0m\u001B[0m\n\u001B[0;32m    928\u001B[0m             \u001B[1;32mif\u001B[0m \u001B[0mbuffer\u001B[0m \u001B[1;32mis\u001B[0m \u001B[1;32mnot\u001B[0m \u001B[1;32mNone\u001B[0m\u001B[1;33m:\u001B[0m\u001B[1;33m\u001B[0m\u001B[1;33m\u001B[0m\u001B[0m\n\u001B[1;32m--> 929\u001B[1;33m                 \u001B[1;32mreturn\u001B[0m \u001B[0mself\u001B[0m\u001B[1;33m.\u001B[0m\u001B[0m_sslobj\u001B[0m\u001B[1;33m.\u001B[0m\u001B[0mread\u001B[0m\u001B[1;33m(\u001B[0m\u001B[0mlen\u001B[0m\u001B[1;33m,\u001B[0m \u001B[0mbuffer\u001B[0m\u001B[1;33m)\u001B[0m\u001B[1;33m\u001B[0m\u001B[1;33m\u001B[0m\u001B[0m\n\u001B[0m\u001B[0;32m    930\u001B[0m             \u001B[1;32melse\u001B[0m\u001B[1;33m:\u001B[0m\u001B[1;33m\u001B[0m\u001B[1;33m\u001B[0m\u001B[0m\n\u001B[0;32m    931\u001B[0m                 \u001B[1;32mreturn\u001B[0m \u001B[0mself\u001B[0m\u001B[1;33m.\u001B[0m\u001B[0m_sslobj\u001B[0m\u001B[1;33m.\u001B[0m\u001B[0mread\u001B[0m\u001B[1;33m(\u001B[0m\u001B[0mlen\u001B[0m\u001B[1;33m)\u001B[0m\u001B[1;33m\u001B[0m\u001B[1;33m\u001B[0m\u001B[0m\n",
      "\u001B[1;31mKeyboardInterrupt\u001B[0m: "
     ]
    }
   ],
   "source": [
    "from datasets import load_dataset\n",
    "\n",
    "# Replace 'dataset_name' with the actual name of the dataset you want to download\n",
    "dataset = load_dataset('AswiN037/tamil-question-answering-dataset')\n",
    "\n",
    "# If you want a specific configuration, you can specify it as follows:\n",
    "# dataset = load_dataset('dataset_name', 'configuration_name')\n"
   ],
   "metadata": {
    "collapsed": false
   }
  },
  {
   "cell_type": "code",
   "execution_count": 6,
   "outputs": [
    {
     "ename": "NameError",
     "evalue": "name 'dataset' is not defined",
     "output_type": "error",
     "traceback": [
      "\u001B[1;31m---------------------------------------------------------------------------\u001B[0m",
      "\u001B[1;31mNameError\u001B[0m                                 Traceback (most recent call last)",
      "\u001B[1;32m~\\AppData\\Local\\Temp\\ipykernel_11724\\2381187772.py\u001B[0m in \u001B[0;36m<module>\u001B[1;34m\u001B[0m\n\u001B[1;32m----> 1\u001B[1;33m \u001B[0mprint\u001B[0m\u001B[1;33m(\u001B[0m\u001B[0mdataset\u001B[0m\u001B[1;33m)\u001B[0m  \u001B[1;31m# Displays information about the dataset splits\u001B[0m\u001B[1;33m\u001B[0m\u001B[1;33m\u001B[0m\u001B[0m\n\u001B[0m\u001B[0;32m      2\u001B[0m \u001B[0mprint\u001B[0m\u001B[1;33m(\u001B[0m\u001B[0mdataset\u001B[0m\u001B[1;33m[\u001B[0m\u001B[1;34m'train'\u001B[0m\u001B[1;33m]\u001B[0m\u001B[1;33m[\u001B[0m\u001B[1;36m0\u001B[0m\u001B[1;33m]\u001B[0m\u001B[1;33m)\u001B[0m  \u001B[1;31m# Shows the first entry in the training split\u001B[0m\u001B[1;33m\u001B[0m\u001B[1;33m\u001B[0m\u001B[0m\n\u001B[0;32m      3\u001B[0m \u001B[1;33m\u001B[0m\u001B[0m\n",
      "\u001B[1;31mNameError\u001B[0m: name 'dataset' is not defined"
     ]
    }
   ],
   "source": [
    "print(dataset)  # Displays information about the dataset splits\n",
    "print(dataset['train'][0])  # Shows the first entry in the training split\n"
   ],
   "metadata": {
    "collapsed": false
   }
  },
  {
   "cell_type": "code",
   "execution_count": null,
   "outputs": [],
   "source": [],
   "metadata": {
    "collapsed": false
   }
  }
 ],
 "metadata": {
  "kernelspec": {
   "display_name": "Python 3 (ipykernel)",
   "language": "python",
   "name": "python3"
  },
  "language_info": {
   "codemirror_mode": {
    "name": "ipython",
    "version": 3
   },
   "file_extension": ".py",
   "mimetype": "text/x-python",
   "name": "python",
   "nbconvert_exporter": "python",
   "pygments_lexer": "ipython3",
   "version": "3.9.13"
  }
 },
 "nbformat": 4,
 "nbformat_minor": 1
}
